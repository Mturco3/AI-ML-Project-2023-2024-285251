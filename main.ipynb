{
  "cells": [
    {
      "cell_type": "markdown",
      "metadata": {
        "id": "mlSfA70ZrVEw"
      },
      "source": [
        "# Introduction\n",
        "\n",
        "As part of your duties as senior data scientist for the famous ThomasTrain company, you are assigned to understand the satisfaction of the customers even without a direct evaluation.\n",
        "To accomplish this task, the company provided you with the “trains_dataset.csv”.\n",
        " Understanding the customers’ satisfaction will help the marketing team to effectively target users with promotions and making the retention higher.\n",
        "\n",
        "Assignment:\n",
        "- Perform an Explanatory data analysis (EDA) with visualization;\n",
        "- Generate a training and test set. The test set should be used only at the end;\n",
        "- Preprocess the dataset (remove outliers, impute missing values, encode categorical features with one hot encoding, not necessarily in this order). Your goal is to estimate whether a customer is satisfied;\n",
        "- Define whether this is a regression, classification or clustering problem, explain why and choose your model design accordingly. Test at least 3 different models. First, create a validation set from the training set to analyze the behaviour with the default hyperparameters. Then use cross-validation to find the best set of hyperparameters. You must describe every hyperparameter tuned (the more, the better);\n",
        "- Select the best architecture using the right metric;\n",
        "- Finally, compute the performances of the test set."
      ]
    },
    {
      "cell_type": "markdown",
      "metadata": {
        "id": "7UwqNz5AKi2L"
      },
      "source": [
        "# Importing libraries\n",
        "\n",
        "Import necessary libraries and read the dataset"
      ]
    },
    {
      "cell_type": "code",
      "execution_count": 40,
      "metadata": {
        "id": "iJn7Eo_6Ki2M"
      },
      "outputs": [],
      "source": [
        "import pandas as pd\n",
        "import numpy as np\n",
        "import matplotlib.pyplot as plt\n",
        "import seaborn as sns\n",
        "from scipy.stats import chi2_contingency, pointbiserialr\n",
        "import os\n",
        "import requests"
      ]
    },
    {
      "cell_type": "markdown",
      "metadata": {},
      "source": [
        "# Reading the input file"
      ]
    },
    {
      "cell_type": "code",
      "execution_count": null,
      "metadata": {},
      "outputs": [],
      "source": [
        "df_trains = pd.read_csv('trains.csv')"
      ]
    },
    {
      "cell_type": "markdown",
      "metadata": {},
      "source": [
        "# EDA"
      ]
    },
    {
      "cell_type": "markdown",
      "metadata": {
        "id": "5660DqAKKi2P"
      },
      "source": [
        "## 1) Understanding the dataset"
      ]
    },
    {
      "cell_type": "markdown",
      "metadata": {},
      "source": [
        "### 1.1) General overview of the dataset"
      ]
    },
    {
      "cell_type": "markdown",
      "metadata": {
        "id": "xE40xjc_Ki2Q"
      },
      "source": [
        "Using the function *.head()*, we can extract from the dataset the first x columns (x=5 by default, but we can change this number). They are not useful for analytic purposes, but still enable us to visualize the dataset."
      ]
    },
    {
      "cell_type": "code",
      "execution_count": 41,
      "metadata": {
        "colab": {
          "base_uri": "https://localhost:8080/",
          "height": 481
        },
        "id": "SQBpVrg8Ki2Q",
        "outputId": "2c080b09-0d22-40ba-9a24-eca645e8c19b"
      },
      "outputs": [
        {
          "data": {
            "text/html": [
              "<div>\n",
              "<style scoped>\n",
              "    .dataframe tbody tr th:only-of-type {\n",
              "        vertical-align: middle;\n",
              "    }\n",
              "\n",
              "    .dataframe tbody tr th {\n",
              "        vertical-align: top;\n",
              "    }\n",
              "\n",
              "    .dataframe thead th {\n",
              "        text-align: right;\n",
              "    }\n",
              "</style>\n",
              "<table border=\"1\" class=\"dataframe\">\n",
              "  <thead>\n",
              "    <tr style=\"text-align: right;\">\n",
              "      <th></th>\n",
              "      <th>Legroom Service Rating</th>\n",
              "      <th>Onboard General Rating</th>\n",
              "      <th>Food'n'Drink Rating</th>\n",
              "      <th>Age</th>\n",
              "      <th>Departure Arrival Time Rating</th>\n",
              "      <th>Onboard WiFi Rating</th>\n",
              "      <th>Ticket ID</th>\n",
              "      <th>Checkin Rating</th>\n",
              "      <th>Track Location Rating</th>\n",
              "      <th>Baggage Handling Rating</th>\n",
              "      <th>...</th>\n",
              "      <th>Online Booking Rating</th>\n",
              "      <th>Satisfied</th>\n",
              "      <th>Onboard Entertainment Rating</th>\n",
              "      <th>Date and Time</th>\n",
              "      <th>Distance</th>\n",
              "      <th>Seat Comfort Rating</th>\n",
              "      <th>Work or Leisure</th>\n",
              "      <th>Departure Delay in Minutes</th>\n",
              "      <th>Onboard Service Rating</th>\n",
              "      <th>Cleanliness Rating</th>\n",
              "    </tr>\n",
              "  </thead>\n",
              "  <tbody>\n",
              "    <tr>\n",
              "      <th>0</th>\n",
              "      <td>3</td>\n",
              "      <td>5</td>\n",
              "      <td>5</td>\n",
              "      <td>13</td>\n",
              "      <td>4</td>\n",
              "      <td>3</td>\n",
              "      <td>4718594</td>\n",
              "      <td>4</td>\n",
              "      <td>1</td>\n",
              "      <td>4</td>\n",
              "      <td>...</td>\n",
              "      <td>3</td>\n",
              "      <td>N</td>\n",
              "      <td>5</td>\n",
              "      <td>2016-02-19 10:53</td>\n",
              "      <td>460</td>\n",
              "      <td>5</td>\n",
              "      <td>leisure</td>\n",
              "      <td>25</td>\n",
              "      <td>4</td>\n",
              "      <td>5</td>\n",
              "    </tr>\n",
              "    <tr>\n",
              "      <th>1</th>\n",
              "      <td>5</td>\n",
              "      <td>4</td>\n",
              "      <td>1</td>\n",
              "      <td>25</td>\n",
              "      <td>2</td>\n",
              "      <td>3</td>\n",
              "      <td>1048580</td>\n",
              "      <td>1</td>\n",
              "      <td>3</td>\n",
              "      <td>3</td>\n",
              "      <td>...</td>\n",
              "      <td>3</td>\n",
              "      <td>N</td>\n",
              "      <td>1</td>\n",
              "      <td>2016-02-26 15:39</td>\n",
              "      <td>235</td>\n",
              "      <td>1</td>\n",
              "      <td>work</td>\n",
              "      <td>1</td>\n",
              "      <td>1</td>\n",
              "      <td>1</td>\n",
              "    </tr>\n",
              "    <tr>\n",
              "      <th>2</th>\n",
              "      <td>3</td>\n",
              "      <td>4</td>\n",
              "      <td>5</td>\n",
              "      <td>26</td>\n",
              "      <td>2</td>\n",
              "      <td>2</td>\n",
              "      <td>3670024</td>\n",
              "      <td>4</td>\n",
              "      <td>2</td>\n",
              "      <td>4</td>\n",
              "      <td>...</td>\n",
              "      <td>2</td>\n",
              "      <td>Y</td>\n",
              "      <td>5</td>\n",
              "      <td>2016-02-26 07:26</td>\n",
              "      <td>1142</td>\n",
              "      <td>5</td>\n",
              "      <td>work</td>\n",
              "      <td>0</td>\n",
              "      <td>4</td>\n",
              "      <td>5</td>\n",
              "    </tr>\n",
              "    <tr>\n",
              "      <th>3</th>\n",
              "      <td>5</td>\n",
              "      <td>4</td>\n",
              "      <td>2</td>\n",
              "      <td>25</td>\n",
              "      <td>5</td>\n",
              "      <td>2</td>\n",
              "      <td>3145737</td>\n",
              "      <td>1</td>\n",
              "      <td>5</td>\n",
              "      <td>3</td>\n",
              "      <td>...</td>\n",
              "      <td>5</td>\n",
              "      <td>N</td>\n",
              "      <td>2</td>\n",
              "      <td>2016-02-27 08:32</td>\n",
              "      <td>562</td>\n",
              "      <td>2</td>\n",
              "      <td>work</td>\n",
              "      <td>11</td>\n",
              "      <td>2</td>\n",
              "      <td>2</td>\n",
              "    </tr>\n",
              "    <tr>\n",
              "      <th>4</th>\n",
              "      <td>4</td>\n",
              "      <td>3</td>\n",
              "      <td>4</td>\n",
              "      <td>61</td>\n",
              "      <td>3</td>\n",
              "      <td>3</td>\n",
              "      <td>5767177</td>\n",
              "      <td>3</td>\n",
              "      <td>3</td>\n",
              "      <td>4</td>\n",
              "      <td>...</td>\n",
              "      <td>3</td>\n",
              "      <td>Y</td>\n",
              "      <td>3</td>\n",
              "      <td>2016-02-27 14:37</td>\n",
              "      <td>214</td>\n",
              "      <td>5</td>\n",
              "      <td>work</td>\n",
              "      <td>0</td>\n",
              "      <td>3</td>\n",
              "      <td>3</td>\n",
              "    </tr>\n",
              "  </tbody>\n",
              "</table>\n",
              "<p>5 rows × 25 columns</p>\n",
              "</div>"
            ],
            "text/plain": [
              "   Legroom Service Rating  Onboard General Rating  Food'n'Drink Rating  Age  \\\n",
              "0                       3                       5                    5   13   \n",
              "1                       5                       4                    1   25   \n",
              "2                       3                       4                    5   26   \n",
              "3                       5                       4                    2   25   \n",
              "4                       4                       3                    4   61   \n",
              "\n",
              "   Departure Arrival Time Rating  Onboard WiFi Rating  Ticket ID  \\\n",
              "0                              4                    3    4718594   \n",
              "1                              2                    3    1048580   \n",
              "2                              2                    2    3670024   \n",
              "3                              5                    2    3145737   \n",
              "4                              3                    3    5767177   \n",
              "\n",
              "   Checkin Rating  Track Location Rating  Baggage Handling Rating  ...  \\\n",
              "0               4                      1                        4  ...   \n",
              "1               1                      3                        3  ...   \n",
              "2               4                      2                        4  ...   \n",
              "3               1                      5                        3  ...   \n",
              "4               3                      3                        4  ...   \n",
              "\n",
              "   Online Booking Rating Satisfied Onboard Entertainment Rating  \\\n",
              "0                      3         N                            5   \n",
              "1                      3         N                            1   \n",
              "2                      2         Y                            5   \n",
              "3                      5         N                            2   \n",
              "4                      3         Y                            3   \n",
              "\n",
              "      Date and Time  Distance  Seat Comfort Rating Work or Leisure  \\\n",
              "0  2016-02-19 10:53       460                    5         leisure   \n",
              "1  2016-02-26 15:39       235                    1            work   \n",
              "2  2016-02-26 07:26      1142                    5            work   \n",
              "3  2016-02-27 08:32       562                    2            work   \n",
              "4  2016-02-27 14:37       214                    5            work   \n",
              "\n",
              "   Departure Delay in Minutes Onboard Service Rating  Cleanliness Rating  \n",
              "0                          25                      4                   5  \n",
              "1                           1                      1                   1  \n",
              "2                           0                      4                   5  \n",
              "3                          11                      2                   2  \n",
              "4                           0                      3                   3  \n",
              "\n",
              "[5 rows x 25 columns]"
            ]
          },
          "execution_count": 41,
          "metadata": {},
          "output_type": "execute_result"
        }
      ],
      "source": [
        "df_trains.head()"
      ]
    },
    {
      "cell_type": "markdown",
      "metadata": {
        "id": "z8z1FR3nKi2R"
      },
      "source": [
        "## 1.2) Showing the dimension of the dataset"
      ]
    },
    {
      "cell_type": "markdown",
      "metadata": {
        "id": "-z62FZffKi2S"
      },
      "source": [
        "The dataset has 129880 rows and 25 columns"
      ]
    },
    {
      "cell_type": "code",
      "execution_count": 42,
      "metadata": {
        "colab": {
          "base_uri": "https://localhost:8080/"
        },
        "id": "0cp-ZA6TKi2S",
        "outputId": "110a4e31-deef-4e6b-8e7e-24ed4252c394"
      },
      "outputs": [
        {
          "name": "stdout",
          "output_type": "stream",
          "text": [
            "The shape of the given dataset is (129880, 25). It contains 129880 rows and 25 columns \n"
          ]
        }
      ],
      "source": [
        "print ('The shape of the given dataset is {}. It contains {} rows and {} columns '.format(df_trains.shape,df_trains.shape[0],df_trains.shape[1]))"
      ]
    },
    {
      "cell_type": "markdown",
      "metadata": {
        "id": "YkKI2R1pKi2S"
      },
      "source": [
        "## 1.3) Gathering information from data"
      ]
    },
    {
      "cell_type": "markdown",
      "metadata": {
        "id": "44f9ly8oKi2S"
      },
      "source": [
        "The visulaization *.info()* let us notice that almost every column has complete informations (hence, 0 null values), only 'Arrival delay in Minutes' column has some missing values.\n",
        "\n",
        "Moreover we can see that among 25 variables, only 6 are categorical, while 19 are numerical."
      ]
    },
    {
      "cell_type": "code",
      "execution_count": 43,
      "metadata": {
        "colab": {
          "base_uri": "https://localhost:8080/"
        },
        "id": "so-_FF5KKi2T",
        "outputId": "67602b72-32fa-4b21-da75-9cddd3d3cdea"
      },
      "outputs": [
        {
          "name": "stdout",
          "output_type": "stream",
          "text": [
            "<class 'pandas.core.frame.DataFrame'>\n",
            "RangeIndex: 129880 entries, 0 to 129879\n",
            "Data columns (total 25 columns):\n",
            " #   Column                         Non-Null Count   Dtype  \n",
            "---  ------                         --------------   -----  \n",
            " 0   Legroom Service Rating         129880 non-null  int64  \n",
            " 1   Onboard General Rating         129880 non-null  int64  \n",
            " 2   Food'n'Drink Rating            129880 non-null  int64  \n",
            " 3   Age                            129880 non-null  int64  \n",
            " 4   Departure Arrival Time Rating  129880 non-null  int64  \n",
            " 5   Onboard WiFi Rating            129880 non-null  int64  \n",
            " 6   Ticket ID                      129880 non-null  int64  \n",
            " 7   Checkin Rating                 129880 non-null  int64  \n",
            " 8   Track Location Rating          129880 non-null  int64  \n",
            " 9   Baggage Handling Rating        129880 non-null  int64  \n",
            " 10  Arrival Delay in Minutes       129487 non-null  float64\n",
            " 11  Ticket Class                   129880 non-null  object \n",
            " 12  Loyalty                        129880 non-null  object \n",
            " 13  Gender                         129880 non-null  object \n",
            " 14  Boarding Rating                129880 non-null  int64  \n",
            " 15  Online Booking Rating          129880 non-null  int64  \n",
            " 16  Satisfied                      129880 non-null  object \n",
            " 17  Onboard Entertainment Rating   129880 non-null  int64  \n",
            " 18  Date and Time                  129880 non-null  object \n",
            " 19  Distance                       129880 non-null  int64  \n",
            " 20  Seat Comfort Rating            129880 non-null  int64  \n",
            " 21  Work or Leisure                129880 non-null  object \n",
            " 22  Departure Delay in Minutes     129880 non-null  int64  \n",
            " 23  Onboard Service Rating         129880 non-null  int64  \n",
            " 24  Cleanliness Rating             129880 non-null  int64  \n",
            "dtypes: float64(1), int64(18), object(6)\n",
            "memory usage: 24.8+ MB\n"
          ]
        }
      ],
      "source": [
        "df_trains.info()  # outputs column names and data types"
      ]
    },
    {
      "cell_type": "markdown",
      "metadata": {
        "id": "O-WcY2GjpgEW"
      },
      "source": [
        " df_trains.info() shows that the variable \"Arrival Delay in Minutes\" is the only variable which presents missing values. It also shows that the variables \"Ticket Class\", \"Loyalty\", \"Gender\", \"Satisfied\" and \"Date and Time\" are categoricals, while all the others are integeres or floats numbers."
      ]
    },
    {
      "cell_type": "markdown",
      "metadata": {
        "id": "VKcmBu8hpgEW"
      },
      "source": [
        "### 1.2.1) Check for duplication"
      ]
    },
    {
      "cell_type": "code",
      "execution_count": 44,
      "metadata": {
        "colab": {
          "base_uri": "https://localhost:8080/"
        },
        "id": "FI9xLpOrpgEW",
        "outputId": "530aa098-9062-4814-f7a5-2207bb971418"
      },
      "outputs": [
        {
          "data": {
            "text/plain": [
              "Legroom Service Rating                6\n",
              "Onboard General Rating                6\n",
              "Food'n'Drink Rating                   6\n",
              "Age                                  75\n",
              "Departure Arrival Time Rating         6\n",
              "Onboard WiFi Rating                   6\n",
              "Ticket ID                        129880\n",
              "Checkin Rating                        6\n",
              "Track Location Rating                 6\n",
              "Baggage Handling Rating               5\n",
              "Arrival Delay in Minutes            472\n",
              "Ticket Class                          3\n",
              "Loyalty                               2\n",
              "Gender                                2\n",
              "Boarding Rating                       6\n",
              "Online Booking Rating                 6\n",
              "Satisfied                             2\n",
              "Onboard Entertainment Rating          6\n",
              "Date and Time                     22667\n",
              "Distance                           3821\n",
              "Seat Comfort Rating                   6\n",
              "Work or Leisure                       2\n",
              "Departure Delay in Minutes          466\n",
              "Onboard Service Rating                6\n",
              "Cleanliness Rating                    6\n",
              "dtype: int64"
            ]
          },
          "execution_count": 44,
          "metadata": {},
          "output_type": "execute_result"
        }
      ],
      "source": [
        "df_trains.nunique()"
      ]
    },
    {
      "cell_type": "markdown",
      "metadata": {
        "id": "kmDzXj_HAakq"
      },
      "source": [
        "We can notice that 'Ticket ID' represents an identifiers column with likely no influence on our classification task"
      ]
    },
    {
      "cell_type": "markdown",
      "metadata": {
        "id": "hWiVm4OvpgEW"
      },
      "source": [
        "## Data Cleaning"
      ]
    },
    {
      "cell_type": "markdown",
      "metadata": {
        "id": "I0oKtDsCKi2T"
      },
      "source": [
        "### 1.4) Handling missing values"
      ]
    },
    {
      "cell_type": "markdown",
      "metadata": {
        "id": "yqBw5ou-Ki2T"
      },
      "source": [
        "Even though it seems like a data cleaning task, our approach in EDA involves addressing missing values to facilitate data plotting and enhance visualization. Specifically, our method for handling missing values involves replacing them with the mode.\n",
        "\n",
        "Our aim is to retain maximum information for model accuracy, avoiding deletion of rows or columns. This approach ensures a more comprehensive dataset, supporting the development of a more precise model."
      ]
    },
    {
      "cell_type": "code",
      "execution_count": 45,
      "metadata": {
        "colab": {
          "base_uri": "https://localhost:8080/"
        },
        "id": "LXawHIiAKi2T",
        "outputId": "99435a7e-a8ee-4c21-f266-6addadf567e2"
      },
      "outputs": [
        {
          "data": {
            "text/plain": [
              "Legroom Service Rating             0\n",
              "Onboard General Rating             0\n",
              "Food'n'Drink Rating                0\n",
              "Age                                0\n",
              "Departure Arrival Time Rating      0\n",
              "Onboard WiFi Rating                0\n",
              "Ticket ID                          0\n",
              "Checkin Rating                     0\n",
              "Track Location Rating              0\n",
              "Baggage Handling Rating            0\n",
              "Arrival Delay in Minutes         393\n",
              "Ticket Class                       0\n",
              "Loyalty                            0\n",
              "Gender                             0\n",
              "Boarding Rating                    0\n",
              "Online Booking Rating              0\n",
              "Satisfied                          0\n",
              "Onboard Entertainment Rating       0\n",
              "Date and Time                      0\n",
              "Distance                           0\n",
              "Seat Comfort Rating                0\n",
              "Work or Leisure                    0\n",
              "Departure Delay in Minutes         0\n",
              "Onboard Service Rating             0\n",
              "Cleanliness Rating                 0\n",
              "dtype: int64"
            ]
          },
          "execution_count": 45,
          "metadata": {},
          "output_type": "execute_result"
        }
      ],
      "source": [
        "# Check for missing values\n",
        "\n",
        "missing_values = df_trains.isnull().sum()\n",
        "missing_values"
      ]
    },
    {
      "cell_type": "markdown",
      "metadata": {
        "id": "4ZK74H6YKi2U"
      },
      "source": [
        "In particular, from this visualization, we notice that 'Arrival Delay in minutes' column has 393 missing values."
      ]
    },
    {
      "cell_type": "code",
      "execution_count": 46,
      "metadata": {
        "colab": {
          "base_uri": "https://localhost:8080/"
        },
        "id": "JhkscI5sKi2U",
        "outputId": "c81ce14f-2009-425b-81db-33cc49d0cc8f"
      },
      "outputs": [
        {
          "data": {
            "text/plain": [
              "Legroom Service Rating           0\n",
              "Onboard General Rating           0\n",
              "Food'n'Drink Rating              0\n",
              "Age                              0\n",
              "Departure Arrival Time Rating    0\n",
              "Onboard WiFi Rating              0\n",
              "Ticket ID                        0\n",
              "Checkin Rating                   0\n",
              "Track Location Rating            0\n",
              "Baggage Handling Rating          0\n",
              "Arrival Delay in Minutes         0\n",
              "Ticket Class                     0\n",
              "Loyalty                          0\n",
              "Gender                           0\n",
              "Boarding Rating                  0\n",
              "Online Booking Rating            0\n",
              "Satisfied                        0\n",
              "Onboard Entertainment Rating     0\n",
              "Date and Time                    0\n",
              "Distance                         0\n",
              "Seat Comfort Rating              0\n",
              "Work or Leisure                  0\n",
              "Departure Delay in Minutes       0\n",
              "Onboard Service Rating           0\n",
              "Cleanliness Rating               0\n",
              "dtype: int64"
            ]
          },
          "execution_count": 46,
          "metadata": {},
          "output_type": "execute_result"
        }
      ],
      "source": [
        "df_trains_without_NaN = df_trains.copy()\n",
        "\n",
        "for column in df_trains.columns:\n",
        "    df_trains_without_NaN[column].fillna(df_trains[column].mode()[0], inplace=True)\n",
        "df_trains_without_NaN.isnull().sum()"
      ]
    },
    {
      "cell_type": "markdown",
      "metadata": {
        "id": "gs2PAaOMKi2U"
      },
      "source": [
        "We used a single *for* loop, that iterates over the columns of the dataframe and replaces the missing rows of each column with its mode. Using the command *.isnull().sum()*, we notice that there are no longer columns containing missing values."
      ]
    },
    {
      "cell_type": "markdown",
      "metadata": {
        "id": "QO9wKXEypgEX"
      },
      "source": [
        "## 1.5) Data Reduction\n",
        "\n",
        "We decided to remove the column \"Ticket ID\" and \"Date and Time\", assuming they don’t have any predictive power to predict the dependent variable"
      ]
    },
    {
      "cell_type": "code",
      "execution_count": 47,
      "metadata": {
        "id": "d9Ot_6l-pgEX"
      },
      "outputs": [],
      "source": [
        "# Remove \"Ticket ID\" and \"Date and Time\" columns from the dataset\n",
        "df_trains_filtered = df_trains_without_NaN.drop(['Ticket ID', 'Date and Time'], axis = 1)"
      ]
    },
    {
      "cell_type": "markdown",
      "metadata": {
        "id": "_DCVmg5JpgEY"
      },
      "source": [
        "## 1.6) Outlier Detection"
      ]
    },
    {
      "cell_type": "markdown",
      "metadata": {
        "id": "P4LUUNnSpgEY"
      },
      "source": [
        "Recall that we define as \"outlier\" any observation - for a given variable - differing more than a certain small quantity with respect to the other observations of that variable. In simpler words, any data point far away from the distribution of data points is regarded as an outlier. In order to visualize such outliers for every numerical variables, we are going to create several boxplots. Then we will look at every boxplot and points not included in the quartiles will be outilers."
      ]
    },
    {
      "cell_type": "code",
      "execution_count": 48,
      "metadata": {
        "colab": {
          "base_uri": "https://localhost:8080/",
          "height": 758
        },
        "id": "3o2OcRAXpgEY",
        "outputId": "b5216477-405c-4d2d-ff95-ef6a3cef63c8"
      },
      "outputs": [
        {
          "data": {
            "image/png": "[encoded data removed]",
            "text/plain": [
              "<Figure size 2160x1440 with 18 Axes>"
            ]
          },
          "metadata": {
            "needs_background": "light"
          },
          "output_type": "display_data"
        }
      ],
      "source": [
        "# Creating the boxplots\n",
        "fig, axes = plt.subplots(3, 6, figsize=(30, 20))\n",
        "\n",
        "sns.boxplot(ax=axes[0, 0], x=df_trains_filtered[\"Legroom Service Rating\"])\n",
        "sns.boxplot(ax=axes[0, 1], x=df_trains_filtered[\"Onboard General Rating\"])\n",
        "sns.boxplot(ax=axes[0, 2], x=df_trains_filtered[\"Seat Comfort Rating\"])\n",
        "sns.boxplot(ax=axes[0, 3], x=df_trains_filtered[\"Food'n'Drink Rating\"])\n",
        "sns.boxplot(ax=axes[0, 4], x=df_trains_filtered[\"Onboard WiFi Rating\"])\n",
        "sns.boxplot(ax=axes[0, 5], x=df_trains_filtered[\"Checkin Rating\"])\n",
        "sns.boxplot(ax=axes[1, 0], x=df_trains_filtered[\"Track Location Rating\"])\n",
        "sns.boxplot(ax=axes[1, 1], x=df_trains_filtered[\"Baggage Handling Rating\"])\n",
        "sns.boxplot(ax=axes[1, 2], x=df_trains_filtered[\"Boarding Rating\"])\n",
        "sns.boxplot(ax=axes[1, 3], x=df_trains_filtered[\"Online Booking Rating\"])\n",
        "sns.boxplot(ax=axes[1, 4], x=df_trains_filtered[\"Onboard Entertainment Rating\"])\n",
        "sns.boxplot(ax=axes[1, 5], x=df_trains_filtered[\"Onboard Service Rating\"])\n",
        "sns.boxplot(ax=axes[2, 0], x=df_trains_filtered[\"Cleanliness Rating\"])\n",
        "sns.boxplot(ax=axes[2, 1], x=df_trains_filtered[\"Departure Arrival Time Rating\"])\n",
        "sns.boxplot(ax=axes[2, 2], x=df_trains_filtered[\"Departure Delay in Minutes\"])\n",
        "sns.boxplot(ax=axes[2, 3], x=df_trains_filtered[\"Arrival Delay in Minutes\"])\n",
        "sns.boxplot(ax=axes[2, 4], x=df_trains_filtered[\"Age\"])\n",
        "sns.boxplot(ax=axes[2, 5], x=df_trains_filtered[\"Distance\"])\n",
        "\n",
        "\n",
        "plt.tight_layout()\n",
        "\n"
      ]
    },
    {
      "cell_type": "markdown",
      "metadata": {
        "id": "5sGAgz6rpgEY"
      },
      "source": [
        "Not all the variables have outliers. Here are the only ones collecting them:\n",
        "\n",
        "- Checkin Rating\n",
        "- Departure Delay in Minutes\n",
        "- Arrival Delay in Minutes\n",
        "- Distance\n",
        "\n",
        "We decided to handle them afterwards.\n",
        "\n"
      ]
    },
    {
      "cell_type": "markdown",
      "metadata": {
        "id": "Jq9xmOaepgEY"
      },
      "source": [
        "# 2) EDA for Feature Understanding"
      ]
    },
    {
      "cell_type": "markdown",
      "metadata": {
        "id": "kFvYSDY8pgEY"
      },
      "source": [
        "Select and separately store Numerical and Categorical features in different variables."
      ]
    },
    {
      "cell_type": "code",
      "execution_count": 49,
      "metadata": {
        "colab": {
          "base_uri": "https://localhost:8080/"
        },
        "id": "bOlQe6vZpgEY",
        "outputId": "4cbdc8f5-f505-4a10-cee5-548e4cd0837a"
      },
      "outputs": [
        {
          "name": "stdout",
          "output_type": "stream",
          "text": [
            "There are 18 numerical features: \n",
            "\n",
            "['Legroom Service Rating', 'Onboard General Rating', \"Food'n'Drink Rating\", 'Age', 'Departure Arrival Time Rating', 'Onboard WiFi Rating', 'Checkin Rating', 'Track Location Rating', 'Baggage Handling Rating', 'Arrival Delay in Minutes', 'Boarding Rating', 'Online Booking Rating', 'Onboard Entertainment Rating', 'Distance', 'Seat Comfort Rating', 'Departure Delay in Minutes', 'Onboard Service Rating', 'Cleanliness Rating']\n",
            "\n",
            "\n",
            "There are 5 categorical features: \n",
            "\n",
            "['Ticket Class', 'Loyalty', 'Gender', 'Satisfied', 'Work or Leisure']\n"
          ]
        }
      ],
      "source": [
        "##Selecting numerical features\n",
        "numerical_data =df_trains_filtered.select_dtypes(include='number')\n",
        "#append the features of numerical_data to list\n",
        "numerical_features=numerical_data.columns.tolist()\n",
        "\n",
        "#Selecting categoricalfeatures\n",
        "categorical_data=df_trains_filtered.select_dtypes(include= 'object')\n",
        "#append the features of categorical_data to list\n",
        "categorical_features=categorical_data.columns.tolist()\n",
        "\n",
        "print(f'There are {len(numerical_features)} numerical features:', '\\n')\n",
        "print(numerical_features)\n",
        "print('\\n')\n",
        "print(f'There are {len(categorical_features)} categorical features:', '\\n')\n",
        "print(categorical_features)"
      ]
    },
    {
      "cell_type": "markdown",
      "metadata": {
        "id": "Uxe2h0mdpgEY"
      },
      "source": [
        "## 2.1) Descriptive Statistics\n",
        "\n",
        "Statistics summary gives a high-level idea to identify whether the data has any outliers, data entry error, distribution of data such as the data is normally distributed or left/right skewed"
      ]
    },
    {
      "cell_type": "markdown",
      "metadata": {},
      "source": [
        "### 2.1.1) Summary of numerical variables\n"
      ]
    },
    {
      "cell_type": "code",
      "execution_count": 50,
      "metadata": {
        "colab": {
          "base_uri": "https://localhost:8080/",
          "height": 613
        },
        "id": "Hx3k9X4FpgEZ",
        "outputId": "907c86d8-cab0-4c67-f071-95a109221452"
      },
      "outputs": [
        {
          "data": {
            "text/html": [
              "<div>\n",
              "<style scoped>\n",
              "    .dataframe tbody tr th:only-of-type {\n",
              "        vertical-align: middle;\n",
              "    }\n",
              "\n",
              "    .dataframe tbody tr th {\n",
              "        vertical-align: top;\n",
              "    }\n",
              "\n",
              "    .dataframe thead th {\n",
              "        text-align: right;\n",
              "    }\n",
              "</style>\n",
              "<table border=\"1\" class=\"dataframe\">\n",
              "  <thead>\n",
              "    <tr style=\"text-align: right;\">\n",
              "      <th></th>\n",
              "      <th>count</th>\n",
              "      <th>mean</th>\n",
              "      <th>std</th>\n",
              "      <th>min</th>\n",
              "      <th>25%</th>\n",
              "      <th>50%</th>\n",
              "      <th>75%</th>\n",
              "      <th>max</th>\n",
              "    </tr>\n",
              "  </thead>\n",
              "  <tbody>\n",
              "    <tr>\n",
              "      <th>Legroom Service Rating</th>\n",
              "      <td>129880.0</td>\n",
              "      <td>3.350878</td>\n",
              "      <td>1.316252</td>\n",
              "      <td>0.0</td>\n",
              "      <td>2.0</td>\n",
              "      <td>4.0</td>\n",
              "      <td>4.0</td>\n",
              "      <td>5.0</td>\n",
              "    </tr>\n",
              "    <tr>\n",
              "      <th>Onboard General Rating</th>\n",
              "      <td>129880.0</td>\n",
              "      <td>3.642193</td>\n",
              "      <td>1.176669</td>\n",
              "      <td>0.0</td>\n",
              "      <td>3.0</td>\n",
              "      <td>4.0</td>\n",
              "      <td>5.0</td>\n",
              "      <td>5.0</td>\n",
              "    </tr>\n",
              "    <tr>\n",
              "      <th>Food'n'Drink Rating</th>\n",
              "      <td>129880.0</td>\n",
              "      <td>3.204774</td>\n",
              "      <td>1.329933</td>\n",
              "      <td>0.0</td>\n",
              "      <td>2.0</td>\n",
              "      <td>3.0</td>\n",
              "      <td>4.0</td>\n",
              "      <td>5.0</td>\n",
              "    </tr>\n",
              "    <tr>\n",
              "      <th>Age</th>\n",
              "      <td>129880.0</td>\n",
              "      <td>39.427957</td>\n",
              "      <td>15.119360</td>\n",
              "      <td>7.0</td>\n",
              "      <td>27.0</td>\n",
              "      <td>40.0</td>\n",
              "      <td>51.0</td>\n",
              "      <td>85.0</td>\n",
              "    </tr>\n",
              "    <tr>\n",
              "      <th>Departure Arrival Time Rating</th>\n",
              "      <td>129880.0</td>\n",
              "      <td>3.057599</td>\n",
              "      <td>1.526741</td>\n",
              "      <td>0.0</td>\n",
              "      <td>2.0</td>\n",
              "      <td>3.0</td>\n",
              "      <td>4.0</td>\n",
              "      <td>5.0</td>\n",
              "    </tr>\n",
              "    <tr>\n",
              "      <th>Onboard WiFi Rating</th>\n",
              "      <td>129880.0</td>\n",
              "      <td>2.728696</td>\n",
              "      <td>1.329340</td>\n",
              "      <td>0.0</td>\n",
              "      <td>2.0</td>\n",
              "      <td>3.0</td>\n",
              "      <td>4.0</td>\n",
              "      <td>5.0</td>\n",
              "    </tr>\n",
              "    <tr>\n",
              "      <th>Checkin Rating</th>\n",
              "      <td>129880.0</td>\n",
              "      <td>3.306267</td>\n",
              "      <td>1.266185</td>\n",
              "      <td>0.0</td>\n",
              "      <td>3.0</td>\n",
              "      <td>3.0</td>\n",
              "      <td>4.0</td>\n",
              "      <td>5.0</td>\n",
              "    </tr>\n",
              "    <tr>\n",
              "      <th>Track Location Rating</th>\n",
              "      <td>129880.0</td>\n",
              "      <td>2.976925</td>\n",
              "      <td>1.278520</td>\n",
              "      <td>0.0</td>\n",
              "      <td>2.0</td>\n",
              "      <td>3.0</td>\n",
              "      <td>4.0</td>\n",
              "      <td>5.0</td>\n",
              "    </tr>\n",
              "    <tr>\n",
              "      <th>Baggage Handling Rating</th>\n",
              "      <td>129880.0</td>\n",
              "      <td>3.632114</td>\n",
              "      <td>1.180025</td>\n",
              "      <td>1.0</td>\n",
              "      <td>3.0</td>\n",
              "      <td>4.0</td>\n",
              "      <td>5.0</td>\n",
              "      <td>5.0</td>\n",
              "    </tr>\n",
              "    <tr>\n",
              "      <th>Arrival Delay in Minutes</th>\n",
              "      <td>129880.0</td>\n",
              "      <td>15.045465</td>\n",
              "      <td>38.416353</td>\n",
              "      <td>0.0</td>\n",
              "      <td>0.0</td>\n",
              "      <td>0.0</td>\n",
              "      <td>13.0</td>\n",
              "      <td>1584.0</td>\n",
              "    </tr>\n",
              "    <tr>\n",
              "      <th>Boarding Rating</th>\n",
              "      <td>129880.0</td>\n",
              "      <td>3.252633</td>\n",
              "      <td>1.350719</td>\n",
              "      <td>0.0</td>\n",
              "      <td>2.0</td>\n",
              "      <td>3.0</td>\n",
              "      <td>4.0</td>\n",
              "      <td>5.0</td>\n",
              "    </tr>\n",
              "    <tr>\n",
              "      <th>Online Booking Rating</th>\n",
              "      <td>129880.0</td>\n",
              "      <td>2.756876</td>\n",
              "      <td>1.401740</td>\n",
              "      <td>0.0</td>\n",
              "      <td>2.0</td>\n",
              "      <td>3.0</td>\n",
              "      <td>4.0</td>\n",
              "      <td>5.0</td>\n",
              "    </tr>\n",
              "    <tr>\n",
              "      <th>Onboard Entertainment Rating</th>\n",
              "      <td>129880.0</td>\n",
              "      <td>3.358077</td>\n",
              "      <td>1.334049</td>\n",
              "      <td>0.0</td>\n",
              "      <td>2.0</td>\n",
              "      <td>4.0</td>\n",
              "      <td>4.0</td>\n",
              "      <td>5.0</td>\n",
              "    </tr>\n",
              "    <tr>\n",
              "      <th>Distance</th>\n",
              "      <td>129880.0</td>\n",
              "      <td>1190.316392</td>\n",
              "      <td>997.452477</td>\n",
              "      <td>31.0</td>\n",
              "      <td>414.0</td>\n",
              "      <td>844.0</td>\n",
              "      <td>1744.0</td>\n",
              "      <td>4983.0</td>\n",
              "    </tr>\n",
              "    <tr>\n",
              "      <th>Seat Comfort Rating</th>\n",
              "      <td>129880.0</td>\n",
              "      <td>3.441361</td>\n",
              "      <td>1.319289</td>\n",
              "      <td>0.0</td>\n",
              "      <td>2.0</td>\n",
              "      <td>4.0</td>\n",
              "      <td>5.0</td>\n",
              "      <td>5.0</td>\n",
              "    </tr>\n",
              "    <tr>\n",
              "      <th>Departure Delay in Minutes</th>\n",
              "      <td>129880.0</td>\n",
              "      <td>14.713713</td>\n",
              "      <td>38.071126</td>\n",
              "      <td>0.0</td>\n",
              "      <td>0.0</td>\n",
              "      <td>0.0</td>\n",
              "      <td>12.0</td>\n",
              "      <td>1592.0</td>\n",
              "    </tr>\n",
              "    <tr>\n",
              "      <th>Onboard Service Rating</th>\n",
              "      <td>129880.0</td>\n",
              "      <td>3.383023</td>\n",
              "      <td>1.287099</td>\n",
              "      <td>0.0</td>\n",
              "      <td>2.0</td>\n",
              "      <td>4.0</td>\n",
              "      <td>4.0</td>\n",
              "      <td>5.0</td>\n",
              "    </tr>\n",
              "    <tr>\n",
              "      <th>Cleanliness Rating</th>\n",
              "      <td>129880.0</td>\n",
              "      <td>3.286326</td>\n",
              "      <td>1.313682</td>\n",
              "      <td>0.0</td>\n",
              "      <td>2.0</td>\n",
              "      <td>3.0</td>\n",
              "      <td>4.0</td>\n",
              "      <td>5.0</td>\n",
              "    </tr>\n",
              "  </tbody>\n",
              "</table>\n",
              "</div>"
            ],
            "text/plain": [
              "                                  count         mean         std   min    25%  \\\n",
              "Legroom Service Rating         129880.0     3.350878    1.316252   0.0    2.0   \n",
              "Onboard General Rating         129880.0     3.642193    1.176669   0.0    3.0   \n",
              "Food'n'Drink Rating            129880.0     3.204774    1.329933   0.0    2.0   \n",
              "Age                            129880.0    39.427957   15.119360   7.0   27.0   \n",
              "Departure Arrival Time Rating  129880.0     3.057599    1.526741   0.0    2.0   \n",
              "Onboard WiFi Rating            129880.0     2.728696    1.329340   0.0    2.0   \n",
              "Checkin Rating                 129880.0     3.306267    1.266185   0.0    3.0   \n",
              "Track Location Rating          129880.0     2.976925    1.278520   0.0    2.0   \n",
              "Baggage Handling Rating        129880.0     3.632114    1.180025   1.0    3.0   \n",
              "Arrival Delay in Minutes       129880.0    15.045465   38.416353   0.0    0.0   \n",
              "Boarding Rating                129880.0     3.252633    1.350719   0.0    2.0   \n",
              "Online Booking Rating          129880.0     2.756876    1.401740   0.0    2.0   \n",
              "Onboard Entertainment Rating   129880.0     3.358077    1.334049   0.0    2.0   \n",
              "Distance                       129880.0  1190.316392  997.452477  31.0  414.0   \n",
              "Seat Comfort Rating            129880.0     3.441361    1.319289   0.0    2.0   \n",
              "Departure Delay in Minutes     129880.0    14.713713   38.071126   0.0    0.0   \n",
              "Onboard Service Rating         129880.0     3.383023    1.287099   0.0    2.0   \n",
              "Cleanliness Rating             129880.0     3.286326    1.313682   0.0    2.0   \n",
              "\n",
              "                                 50%     75%     max  \n",
              "Legroom Service Rating           4.0     4.0     5.0  \n",
              "Onboard General Rating           4.0     5.0     5.0  \n",
              "Food'n'Drink Rating              3.0     4.0     5.0  \n",
              "Age                             40.0    51.0    85.0  \n",
              "Departure Arrival Time Rating    3.0     4.0     5.0  \n",
              "Onboard WiFi Rating              3.0     4.0     5.0  \n",
              "Checkin Rating                   3.0     4.0     5.0  \n",
              "Track Location Rating            3.0     4.0     5.0  \n",
              "Baggage Handling Rating          4.0     5.0     5.0  \n",
              "Arrival Delay in Minutes         0.0    13.0  1584.0  \n",
              "Boarding Rating                  3.0     4.0     5.0  \n",
              "Online Booking Rating            3.0     4.0     5.0  \n",
              "Onboard Entertainment Rating     4.0     4.0     5.0  \n",
              "Distance                       844.0  1744.0  4983.0  \n",
              "Seat Comfort Rating              4.0     5.0     5.0  \n",
              "Departure Delay in Minutes       0.0    12.0  1592.0  \n",
              "Onboard Service Rating           4.0     4.0     5.0  \n",
              "Cleanliness Rating               3.0     4.0     5.0  "
            ]
          },
          "execution_count": 50,
          "metadata": {},
          "output_type": "execute_result"
        }
      ],
      "source": [
        "df_trains_filtered.describe().T"
      ]
    },
    {
      "cell_type": "markdown",
      "metadata": {
        "id": "t4KtoDdEpgEZ"
      },
      "source": [
        "**Brief interpretation**\n",
        "\n",
        "- **Service-related ratings**: These ratings have a count of 129,880 entries, meaning there are no missing values. The mean rating is around 3 to 4 on a scale, suggesting moderately high satisfaction in general. The standard deviation (std) is around 1.3, indicating some variability in customer ratings but not extremely wide-ranging. The minimum (min) is 0, and the maximum (max) is 5, which is likely the range of the rating scale. The 25th, 50th (median), and 75th percentiles show that at least 50% of customers gave a rating of 3 or higher for these services.\n",
        "\n",
        "\n",
        "- **Age**: The average age of the customers is approximately 39 years old. The standard deviation is about 15 years, which suggests a broad age range of customers. The youngest customer is 7 years old, and the oldest is 85.\n",
        "\n",
        "\n",
        "\n",
        "- **Arrival Delay in Minutes and Departure Delay in Minutes**: The average delays are around 15 and 14 minutes, respectively, with a large standard deviation, indicating some trips have much higher delays. The maximum delay recorded is quite high (1584 minutes), suggesting occasional significant delays (outliers).\n",
        "\n",
        "\n",
        "- **Distance**: The distances traveled vary significantly, with the mean distance being around 1190 kilometers and the standard deviation around 997, indicating that the distance covered by customers varies greatly.\n",
        "\n",
        "\n",
        "Overall, the service ratings are generally positive, customer ages vary widely, and there are some notable delays in departures and arrivals. The describe() function output provides a quick way to evaluate many aspects of data distribution, which can be crucial for data preprocessing and feature engineering in machine learning."
      ]
    },
    {
      "cell_type": "markdown",
      "metadata": {
        "id": "bApHcn9opgEZ"
      },
      "source": [
        "### 2.1.2) Summary of categorical variables"
      ]
    },
    {
      "cell_type": "code",
      "execution_count": 51,
      "metadata": {
        "colab": {
          "base_uri": "https://localhost:8080/",
          "height": 206
        },
        "id": "6BRBE-5lpgEZ",
        "outputId": "aa7dbf68-e0c4-4b84-977f-caf82617bda4"
      },
      "outputs": [
        {
          "data": {
            "text/html": [
              "<div>\n",
              "<style scoped>\n",
              "    .dataframe tbody tr th:only-of-type {\n",
              "        vertical-align: middle;\n",
              "    }\n",
              "\n",
              "    .dataframe tbody tr th {\n",
              "        vertical-align: top;\n",
              "    }\n",
              "\n",
              "    .dataframe thead th {\n",
              "        text-align: right;\n",
              "    }\n",
              "</style>\n",
              "<table border=\"1\" class=\"dataframe\">\n",
              "  <thead>\n",
              "    <tr style=\"text-align: right;\">\n",
              "      <th></th>\n",
              "      <th>count</th>\n",
              "      <th>unique</th>\n",
              "      <th>top</th>\n",
              "      <th>freq</th>\n",
              "    </tr>\n",
              "  </thead>\n",
              "  <tbody>\n",
              "    <tr>\n",
              "      <th>Ticket Class</th>\n",
              "      <td>129880</td>\n",
              "      <td>3</td>\n",
              "      <td>Premium</td>\n",
              "      <td>62160</td>\n",
              "    </tr>\n",
              "    <tr>\n",
              "      <th>Loyalty</th>\n",
              "      <td>129880</td>\n",
              "      <td>2</td>\n",
              "      <td>Loyal</td>\n",
              "      <td>106100</td>\n",
              "    </tr>\n",
              "    <tr>\n",
              "      <th>Gender</th>\n",
              "      <td>129880</td>\n",
              "      <td>2</td>\n",
              "      <td>F</td>\n",
              "      <td>65899</td>\n",
              "    </tr>\n",
              "    <tr>\n",
              "      <th>Satisfied</th>\n",
              "      <td>129880</td>\n",
              "      <td>2</td>\n",
              "      <td>N</td>\n",
              "      <td>73452</td>\n",
              "    </tr>\n",
              "    <tr>\n",
              "      <th>Work or Leisure</th>\n",
              "      <td>129880</td>\n",
              "      <td>2</td>\n",
              "      <td>work</td>\n",
              "      <td>89693</td>\n",
              "    </tr>\n",
              "  </tbody>\n",
              "</table>\n",
              "</div>"
            ],
            "text/plain": [
              "                  count unique      top    freq\n",
              "Ticket Class     129880      3  Premium   62160\n",
              "Loyalty          129880      2    Loyal  106100\n",
              "Gender           129880      2        F   65899\n",
              "Satisfied        129880      2        N   73452\n",
              "Work or Leisure  129880      2     work   89693"
            ]
          },
          "execution_count": 51,
          "metadata": {},
          "output_type": "execute_result"
        }
      ],
      "source": [
        "categorical_data.describe(include='object').T"
      ]
    },
    {
      "cell_type": "markdown",
      "metadata": {
        "id": "ue8plO8XpgEZ"
      },
      "source": [
        "**Brief interpretation**\n",
        "\n",
        "- **'Premium'** is the most common ticket class, indicating a potential preference.\n",
        "\n",
        "- A significant proportion of the dataset is marked as **'Loyal'**, which could be indicative of a successful loyalty program or repeated use of the service by the customers.\n",
        "\n",
        "- The slight **female majority** and the higher number of **work-related travels provide** insights into the demographic and purpose of travel of the customers.\n",
        "\n",
        "- **'N'** (Not Satisfied) is the most common value in the 'Satisfied' column.\n",
        "\n"
      ]
    },
    {
      "cell_type": "markdown",
      "metadata": {
        "id": "KpR2Ra3ApgEZ"
      },
      "source": [
        "## 2.2) Univariate Analysis"
      ]
    },
    {
      "cell_type": "markdown",
      "metadata": {},
      "source": [
        "### 2.2.1) Numerical variables"
      ]
    },
    {
      "cell_type": "code",
      "execution_count": 52,
      "metadata": {
        "colab": {
          "base_uri": "https://localhost:8080/",
          "height": 1000
        },
        "id": "8guhdD1mpgEZ",
        "outputId": "c4a39641-d831-4609-b0b2-d78ab51e526c"
      },
      "outputs": [
        {
          "data": {
            "image/png": "[encoded data removed]",
            "text/plain": [
              "<Figure size 936x936 with 20 Axes>"
            ]
          },
          "metadata": {
            "needs_background": "light"
          },
          "output_type": "display_data"
        }
      ],
      "source": [
        "numerical_data.hist(figsize=(13,13),bins=20)\n",
        "plt.show()"
      ]
    },
    {
      "cell_type": "markdown",
      "metadata": {
        "id": "KMCNTFyJpgEa"
      },
      "source": [
        "**Observations from Numerical Features Distributions**\n",
        "\n",
        "The initial EDA revealed that customer ratings for onboard services generally skewed high, indicating overall customer satisfaction with the ThomasTrain company's services. In contrast, features like 'Food'n'Drink Rating', 'Seat Comfort Rating', and 'Legroom Service Rating' displayed more diverse customer opinions.\n",
        "\n",
        "\n",
        "Both 'Departure Delay in Minutes' and 'Arrival Delay in Minutes' showed a preponderance of short delays, with occasional longer delays that could significantly impact customer satisfaction.\n",
        "\n",
        "The distribution of 'Distance' suggested that most travels were short, but with enough long-distance trips to merit separate consideration for their impact on satisfaction levels."
      ]
    },
    {
      "cell_type": "markdown",
      "metadata": {
        "id": "TxyIiIBmpgEa"
      },
      "source": [
        "### 2.2.2) Categorical variables"
      ]
    },
    {
      "cell_type": "code",
      "execution_count": 53,
      "metadata": {
        "colab": {
          "base_uri": "https://localhost:8080/",
          "height": 236
        },
        "id": "2F7MSYP5pgEa",
        "outputId": "79c882eb-a538-4f19-bd56-21a58795f019"
      },
      "outputs": [
        {
          "data": {
            "image/png": "[encoded data removed]",
            "text/plain": [
              "<Figure size 1800x360 with 5 Axes>"
            ]
          },
          "metadata": {
            "needs_background": "light"
          },
          "output_type": "display_data"
        }
      ],
      "source": [
        "# Determine the number of categorical features\n",
        "num_features = len(categorical_features)\n",
        "\n",
        "# Create a figure with subplots in one row\n",
        "fig, axes = plt.subplots(1, num_features, figsize=(num_features * 5, 5))  # Adjust figure size as needed\n",
        "\n",
        "# Loop through each categorical feature and create a horizontal bar plot\n",
        "for i, col in enumerate(categorical_features):\n",
        "    categorical_data[col].value_counts().plot(kind='barh', ax=axes[i], title=col)\n",
        "\n",
        "plt.tight_layout()\n",
        "plt.show()"
      ]
    },
    {
      "cell_type": "markdown",
      "metadata": {
        "id": "yQLtMzVmpgEa"
      },
      "source": [
        "**Observations from Categorical Features Distributions**\n",
        "\n",
        "- Regarding ticket classes, the 'Premium' (62160/129880 = 47%) and 'Economy' are the most choosen, while 'smart' represents a much smaller group;\n",
        "- Regarding Loyalty people who are \"Loyal\" are 106100/129880 = 80% of the total\n",
        "- Regarding Gender they are almost equals\n",
        "- Regarding Satisfaction, people that are not satisfied represent the 73452/129880 = 56% of the total\n",
        "- Regarding the reason of the travel, the majority is for work (89693/129880 = 69% of the total)"
      ]
    },
    {
      "cell_type": "markdown",
      "metadata": {
        "id": "2lYvxmQvpgEa"
      },
      "source": [
        "## 2.3) Correlation analysis"
      ]
    },
    {
      "cell_type": "markdown",
      "metadata": {},
      "source": [
        "### 2.3.1) Correlation between numerical variables"
      ]
    },
    {
      "cell_type": "code",
      "execution_count": 54,
      "metadata": {
        "colab": {
          "base_uri": "https://localhost:8080/",
          "height": 899
        },
        "id": "ArHWBAIdpgEa",
        "outputId": "6fbddfb2-59b6-4874-c601-45f1358a8b7e"
      },
      "outputs": [
        {
          "data": {
            "image/png": "[encoded data removed]",
            "text/plain": [
              "<Figure size 720x576 with 2 Axes>"
            ]
          },
          "metadata": {
            "needs_background": "light"
          },
          "output_type": "display_data"
        }
      ],
      "source": [
        "# Correlation among numerical variables\n",
        "plt.figure(figsize=(10, 8))\n",
        "sns.heatmap(df_trains_filtered[numerical_features].corr(), annot=True, cmap='coolwarm')\n",
        "plt.title('Correlation Heatmap among Numerical Variables')\n",
        "plt.show()\n"
      ]
    },
    {
      "cell_type": "markdown",
      "metadata": {
        "id": "zBCZr1xtpgEa"
      },
      "source": [
        "### 2.3.2) Correlation analysis between numerical variables & the target"
      ]
    },
    {
      "cell_type": "code",
      "execution_count": 55,
      "metadata": {
        "colab": {
          "base_uri": "https://localhost:8080/"
        },
        "id": "35bhegaapgEa",
        "outputId": "d6819aef-1fa9-4370-b413-c3c9c7293280"
      },
      "outputs": [
        {
          "name": "stdout",
          "output_type": "stream",
          "text": [
            "Correlation between Legroom Service Rating and Satisfied: 0.3124238194944644\n",
            "Correlation between Onboard General Rating and Satisfied: 0.244917835745692\n",
            "Correlation between Food'n'Drink Rating and Satisfied: 0.21134020762506026\n",
            "Correlation between Age and Satisfied: 0.13409123867754663\n",
            "Correlation between Departure Arrival Time Rating and Satisfied: -0.05426971049373698\n",
            "Correlation between Onboard WiFi Rating and Satisfied: 0.28346023010122745\n",
            "Correlation between Checkin Rating and Satisfied: 0.23725236030898372\n",
            "Correlation between Track Location Rating and Satisfied: -0.002793274652470942\n",
            "Correlation between Baggage Handling Rating and Satisfied: 0.24867991877512483\n",
            "Correlation between Arrival Delay in Minutes and Satisfied: -0.05814493658832044\n",
            "Correlation between Boarding Rating and Satisfied: 0.5017494207376278\n",
            "Correlation between Online Booking Rating and Satisfied: 0.1688771390528441\n",
            "Correlation between Onboard Entertainment Rating and Satisfied: 0.3982336506118982\n",
            "Correlation between Distance and Satisfied: 0.2980848985459443\n",
            "Correlation between Seat Comfort Rating and Satisfied: 0.3488293461025721\n",
            "Correlation between Departure Delay in Minutes and Satisfied: -0.05073986595225518\n",
            "Correlation between Onboard Service Rating and Satisfied: 0.322204823392701\n",
            "Correlation between Cleanliness Rating and Satisfied: 0.30703467056332573\n"
          ]
        }
      ],
      "source": [
        "# Convert 'Satisfied' to a numerical format for correlation analysis\n",
        "df_trains_filtered['Satisfied_Num'] = df_trains_filtered['Satisfied'].apply(lambda x: 1 if x == 'Y' else 0)\n",
        "\n",
        "for col in numerical_features:\n",
        "    corr, _ = pointbiserialr(df_trains_filtered[col], df_trains_filtered['Satisfied_Num'])\n",
        "    print(f'Correlation between {col} and Satisfied: {corr}')"
      ]
    },
    {
      "cell_type": "markdown",
      "metadata": {
        "id": "sZjM2K4ZpgEb"
      },
      "source": [
        "Among numerical variables, \"Boarding Rating\" and \"Onboard Entertainment Rating\" show the strongest positive correlations with satisfaction, while delays (both arrival and departure) have negative and poor correlation with satisfaction."
      ]
    },
    {
      "cell_type": "markdown",
      "metadata": {
        "id": "9ExFrtKvpgEb"
      },
      "source": [
        "### 2.3.3) Correlation analysis between categorical variables & the target"
      ]
    },
    {
      "cell_type": "code",
      "execution_count": 56,
      "metadata": {
        "colab": {
          "base_uri": "https://localhost:8080/"
        },
        "id": "oAWBxveOpgEb",
        "outputId": "588c881b-0e04-4a27-d3f7-d6f5db79f50a"
      },
      "outputs": [
        {
          "name": "stdout",
          "output_type": "stream",
          "text": [
            "Correlation between Ticket Class and Satisfied: 0.5033470652376267\n",
            "Correlation between Loyalty and Satisfied: 0.18599710903940497\n",
            "Correlation between Gender and Satisfied: 0.01122058165604724\n",
            "Correlation between Work or Leisure and Satisfied: 0.44984445343575097\n"
          ]
        }
      ],
      "source": [
        "# Function to calculate Cramér's V for categorical variables\n",
        "def cramers_v(x, y):\n",
        "    confusion_matrix = pd.crosstab(x, y)\n",
        "    chi2 = chi2_contingency(confusion_matrix)[0]\n",
        "    n = confusion_matrix.sum().sum()\n",
        "    phi2 = chi2 / n\n",
        "    r, k = confusion_matrix.shape\n",
        "    return np.sqrt(phi2 / min(k-1, r-1))\n",
        "\n",
        "\n",
        "# Correlation among categorical variables and with the target variable\n",
        "for col in categorical_features:\n",
        "    if col != 'Satisfied':\n",
        "        result = cramers_v(df_trains_filtered[col], df_trains_filtered['Satisfied'])\n",
        "        print(f\"Correlation between {col} and Satisfied: {result}\")"
      ]
    },
    {
      "cell_type": "markdown",
      "metadata": {
        "id": "FX7EkwhYpgEb"
      },
      "source": [
        "Among categorical variables, \"Ticket Class\" and \"Work or Leisure\" have stronger associations with satisfaction, while 'Gender' is poorly correlated."
      ]
    },
    {
      "cell_type": "markdown",
      "metadata": {
        "id": "fRtw0XMKpgEb"
      },
      "source": [
        "## 3) Feature Selection\n",
        "\n",
        "Select features that are most likely to predict customer satisfaction effectively"
      ]
    },
    {
      "cell_type": "code",
      "execution_count": 57,
      "metadata": {
        "id": "5xh6muvApgEb"
      },
      "outputs": [],
      "source": [
        "# Calculating correlations and filtering based on the threshold\n",
        "correlation_threshold = 0.15\n",
        "selected_features = []\n",
        "\n",
        "# Feature Selection for Numerical Features\n",
        "numerical_cols = df_trains_filtered.select_dtypes(include=['int64', 'float64']).columns\n",
        "selected_numerical = [col for col in numerical_cols if abs(pointbiserialr(df_trains_filtered[col], df_trains_filtered['Satisfied_Num']).correlation) > correlation_threshold]\n",
        "\n",
        "# Feature Selection for Categorical Features\n",
        "categorical_cols = df_trains_filtered.select_dtypes(include=['object']).columns\n",
        "selected_categorical = [col for col in categorical_features if col != 'Satisfied' and\n",
        "                        cramers_v(df_trains_filtered[col], df_trains_filtered['Satisfied']) > correlation_threshold]\n",
        "\n",
        "# Combine selected features\n",
        "selected_features = selected_numerical + selected_categorical\n",
        "\n",
        "final_df_trains = df_trains_filtered[selected_features]\n"
      ]
    },
    {
      "cell_type": "markdown",
      "metadata": {
        "id": "2pPUqksL1Z-F"
      },
      "source": [
        "Since there are many features that are not really correlated with the target variable, we can drop them, since they are not relevant to train the model. In particular, we will drop all the features that have a correlation with the target variable in absolute value smaller than 0.15\n",
        "\n",
        "A surprising result is the lower correlation of the Arrival and Departure Delay in Minutes features. This is maybe due to the fact that the presence of few outliers does not highly affect the correlation.\n"
      ]
    },
    {
      "cell_type": "markdown",
      "metadata": {
        "id": "jNMmhfzxpgEc"
      },
      "source": [
        "# 4) Preparing Data for Modeling"
      ]
    },
    {
      "cell_type": "markdown",
      "metadata": {
        "id": "KB9gdVrlpgEc"
      },
      "source": [
        "### 4.1) Encoding Categorical Variables\n",
        "\n",
        "Convert categorical variables to a format suitable for modeling"
      ]
    },
    {
      "cell_type": "code",
      "execution_count": 58,
      "metadata": {
        "id": "ZJ6XCzS_pgEc"
      },
      "outputs": [],
      "source": [
        "from sklearn.preprocessing import LabelEncoder, OneHotEncoder\n",
        "\n",
        "# Select categorical variables\n",
        "new_categorical_cols = final_df_trains.select_dtypes(include=['object']).columns\n",
        "\n",
        "# Initialize an empty DataFrame for the encoded columns\n",
        "encoded_df = pd.DataFrame()\n",
        "\n",
        "# Loop through each categorical column\n",
        "for col in new_categorical_cols:\n",
        "    if final_df_trains[col].nunique() >= 3:\n",
        "        # Apply Label Encoding for variables with 3 or more unique values\n",
        "        le = LabelEncoder()\n",
        "        encoded_df[col+'_encoded'] = le.fit_transform(final_df_trains[col])\n",
        "    else:\n",
        "        # Apply One-Hot Encoding for binary variables\n",
        "        encoder = OneHotEncoder( drop='first')\n",
        "        encoded_col = encoder.fit_transform(final_df_trains[[col]])\n",
        "        encoded_col_df = pd.DataFrame(encoded_col, columns=[col+'_encoded'])\n",
        "        encoded_df = pd.concat([encoded_df, encoded_col_df], axis=1)\n",
        "\n",
        "# Concatenate encoded columns with the original DataFrame and drop original categorical columns\n",
        "df_trains_encoded = pd.concat([final_df_trains, encoded_df], axis=1).drop(new_categorical_cols, axis=1)\n",
        "\n",
        "\n"
      ]
    },
    {
      "cell_type": "markdown",
      "metadata": {
        "id": "9PrVf0u05DAK"
      },
      "source": [
        "If a categorical column has three or more unique values, Label Encoding is applied, which involves assigning a unique integer to each category.\n",
        "\n",
        "If a categorical column has only two unique values (binary), One-Hot Encoding is applied, which creates a new binary column for each category.\n",
        "\n",
        "The parameter sparse_output=False is used to ensure that the output is a dense array.\n",
        "The drop='first' option drops the first level to avoid multicollinearity issues, which is a common practice when dealing with binary variables.\n",
        "\n"
      ]
    },
    {
      "cell_type": "markdown",
      "metadata": {
        "id": "xVPPxOFKMIjq"
      },
      "source": [
        "### 4.2) Removing Outliers"
      ]
    },
    {
      "cell_type": "code",
      "execution_count": 59,
      "metadata": {
        "colab": {
          "base_uri": "https://localhost:8080/"
        },
        "id": "64HpbmvlGHef",
        "outputId": "9a511969-4640-470d-df47-ae47796016d0"
      },
      "outputs": [
        {
          "name": "stdout",
          "output_type": "stream",
          "text": [
            "Dataframe before outliers remotion: (129880, 17)\n",
            "Dataframe after outliers remotion: (111187, 17)\n"
          ]
        }
      ],
      "source": [
        "def outliers(df, ft):\n",
        "    Q1 = df[ft].quantile(0.25) #first quantile\n",
        "    Q3 = df[ft].quantile(0.75) #second quantile\n",
        "    IQR = Q3 - Q1 #interquantile range\n",
        "\n",
        "    lower_bound = Q1 - 1.5*IQR\n",
        "    upper_bound = Q3 + 1.5*IQR\n",
        "\n",
        "    ls = df.index[ (df[ft] < lower_bound) | (df[ft] > upper_bound)] # stores the indexes of the outliers, hence all values either < lower bound, or > upper bound\n",
        "\n",
        "    return ls\n",
        "\n",
        "def remove(df, ls):\n",
        "\n",
        "    #process the list of indexes, since it may be not sorted or not unique\n",
        "    ls = sorted(set(ls))\n",
        "\n",
        "    df = df.drop(ls) # dropping rows containing outliers\n",
        "\n",
        "    return df\n",
        "\n",
        "index_list = []\n",
        "\n",
        "# Filter all numeric columns\n",
        "numeric_columns = df_trains_encoded.select_dtypes(include=[np.number]).columns\n",
        "\n",
        "# Extract outliers\n",
        "for column in numeric_columns:\n",
        "    index_list.extend(outliers(df_trains_encoded, column))\n",
        "\n",
        "# calling the function to remove the outliers\n",
        "data_df_cleaned = remove(df_trains_encoded, index_list)\n",
        "\n",
        "#checking the shape of the new dataframe\n",
        "print(f'Dataframe before outliers remotion: {df_trains_encoded.shape}')\n",
        "print(f'Dataframe after outliers remotion: {data_df_cleaned.shape}')"
      ]
    },
    {
      "cell_type": "markdown",
      "metadata": {
        "id": "eqTDtAhQ6921"
      },
      "source": [
        "We defined two functions, **outliers** and **remove**.\n",
        "\n",
        "- The outliers function returns a list of indexes (index_list) where outliers are found across all these columns;\n",
        "\n",
        "- The remove function, passes the dataframe and the compiled index_list to remove all identified outliers."
      ]
    },
    {
      "cell_type": "markdown",
      "metadata": {
        "id": "T8YG5cLBpgEc"
      },
      "source": [
        "### 4.3) Data Splitting\n",
        "\n",
        "Split the dataset into training and testing sets"
      ]
    },
    {
      "cell_type": "code",
      "execution_count": 60,
      "metadata": {
        "colab": {
          "base_uri": "https://localhost:8080/"
        },
        "id": "NaV6n0vCpgEc",
        "outputId": "bf872bff-5081-4ea5-dbd2-7a97ebc24697"
      },
      "outputs": [
        {
          "name": "stdout",
          "output_type": "stream",
          "text": [
            "X_train shape: (83390, 16)\n",
            "X_test shape: (27797, 16)\n"
          ]
        }
      ],
      "source": [
        "from sklearn.model_selection import train_test_split\n",
        "\n",
        "# Assuming 'Satisfied_Num' is your target variable\n",
        "X = data_df_cleaned.drop('Satisfied_Num', axis=1)\n",
        "y = data_df_cleaned['Satisfied_Num']\n",
        "\n",
        "# Split the data - 75% train, 25% test\n",
        "X_train, X_test, y_train, y_test = train_test_split(X, y, test_size=0.25, random_state=42)\n",
        "\n",
        "print(\"X_train shape:\", X_train.shape)\n",
        "print(\"X_test shape:\", X_test.shape)\n",
        "\n"
      ]
    },
    {
      "cell_type": "markdown",
      "metadata": {
        "id": "kzg39s5EyWLD"
      },
      "source": [
        "### 4.4) Distribution of the target variable in the different sets"
      ]
    },
    {
      "cell_type": "code",
      "execution_count": 61,
      "metadata": {
        "colab": {
          "base_uri": "https://localhost:8080/"
        },
        "id": "VVfhS5_OyZOt",
        "outputId": "4da6c6a4-6a0b-4337-f743-3a5bcde65e1f"
      },
      "outputs": [
        {
          "name": "stdout",
          "output_type": "stream",
          "text": [
            "Distribution of y (Original Dataset):\n",
            "Class 0: 60688 samples\n",
            "Class 1: 50499 samples\n",
            "Ratio: 0.45418079451734467\n",
            "\n",
            "Distribution of y_train (Training Set):\n",
            "Class 0: 45621 samples\n",
            "Class 1: 37769 samples\n",
            "Ratio: 0.4529200143902147\n",
            "\n",
            "Distribution of y_test (Test Set):\n",
            "Class 0: 15067 samples\n",
            "Class 1: 12730 samples\n",
            "Ratio: 0.4579630895420369\n"
          ]
        }
      ],
      "source": [
        "# Calculate the distribution of y in the original dataset\n",
        "unique_vals, original_counts = np.unique(y, return_counts=True)\n",
        "\n",
        "# Calculate the distribution of y_train in the training set\n",
        "train_unique_vals, train_counts = np.unique(y_train, return_counts=True)\n",
        "\n",
        "# Calculate the distribution of y_test in the test set\n",
        "test_unique_vals, test_counts = np.unique(y_test, return_counts=True)\n",
        "\n",
        "# Print the distributions\n",
        "print(\"Distribution of y (Original Dataset):\")\n",
        "print(f\"Class {unique_vals[0]}: {original_counts[0]} samples\")\n",
        "print(f\"Class {unique_vals[1]}: {original_counts[1]} samples\")\n",
        "print(f\"Ratio: {original_counts[1] / (original_counts[0] + original_counts[1])}\")\n",
        "\n",
        "print(\"\\nDistribution of y_train (Training Set):\")\n",
        "print(f\"Class {train_unique_vals[0]}: {train_counts[0]} samples\")\n",
        "print(f\"Class {train_unique_vals[1]}: {train_counts[1]} samples\")\n",
        "print(f\"Ratio: {train_counts[1] / (train_counts[0] + train_counts[1])}\")\n",
        "\n",
        "print(\"\\nDistribution of y_test (Test Set):\")\n",
        "print(f\"Class {test_unique_vals[0]}: {test_counts[0]} samples\")\n",
        "print(f\"Class {test_unique_vals[1]}: {test_counts[1]} samples\")\n",
        "print(f\"Ratio: {test_counts[1] / (test_counts[0] + test_counts[1])}\")"
      ]
    },
    {
      "cell_type": "markdown",
      "metadata": {
        "id": "uX1PI5zFy1na"
      },
      "source": [
        "The ratio between the two classes is the same in both the training and the test set. This is a good thing, since it means that the model will be trained on a balanced dataset and will be able to generalize well. In addittion, we do not have to deal with stratification (splitting the dataset mantaining a balanced ratio between the two classes)."
      ]
    },
    {
      "cell_type": "markdown",
      "metadata": {
        "id": "b1zk1no_zMpN"
      },
      "source": [
        "### 4.5) Feature Scaling: Fit and Transform"
      ]
    },
    {
      "cell_type": "code",
      "execution_count": 62,
      "metadata": {
        "id": "m2imvX-tzM4M"
      },
      "outputs": [
        {
          "ename": "ValueError",
          "evalue": "setting an array element with a sequence.",
          "output_type": "error",
          "traceback": [
            "\u001b[0;31m---------------------------------------------------------------------------\u001b[0m",
            "\u001b[0;31mTypeError\u001b[0m                                 Traceback (most recent call last)",
            "\u001b[0;31mTypeError\u001b[0m: float() argument must be a string or a number, not 'csr_matrix'",
            "\nThe above exception was the direct cause of the following exception:\n",
            "\u001b[0;31mValueError\u001b[0m                                Traceback (most recent call last)",
            "\u001b[1;32m/Users/simonefilosofi/Desktop/AI-ML-Project-2023-2024/AI_eda_simone_meli.ipynb Cella 70\u001b[0m line \u001b[0;36m<cell line: 4>\u001b[0;34m()\u001b[0m\n\u001b[1;32m      <a href='vscode-notebook-cell:/Users/simonefilosofi/Desktop/AI-ML-Project-2023-2024/AI_eda_simone_meli.ipynb#Y126sZmlsZQ%3D%3D?line=0'>1</a>\u001b[0m \u001b[39mfrom\u001b[39;00m \u001b[39msklearn\u001b[39;00m\u001b[39m.\u001b[39;00m\u001b[39mpreprocessing\u001b[39;00m \u001b[39mimport\u001b[39;00m StandardScaler\n\u001b[1;32m      <a href='vscode-notebook-cell:/Users/simonefilosofi/Desktop/AI-ML-Project-2023-2024/AI_eda_simone_meli.ipynb#Y126sZmlsZQ%3D%3D?line=2'>3</a>\u001b[0m scaler_X \u001b[39m=\u001b[39m StandardScaler()\n\u001b[0;32m----> <a href='vscode-notebook-cell:/Users/simonefilosofi/Desktop/AI-ML-Project-2023-2024/AI_eda_simone_meli.ipynb#Y126sZmlsZQ%3D%3D?line=3'>4</a>\u001b[0m scaler_X\u001b[39m.\u001b[39;49mfit(X_train)\n\u001b[1;32m      <a href='vscode-notebook-cell:/Users/simonefilosofi/Desktop/AI-ML-Project-2023-2024/AI_eda_simone_meli.ipynb#Y126sZmlsZQ%3D%3D?line=4'>5</a>\u001b[0m X_train \u001b[39m=\u001b[39m scaler_X\u001b[39m.\u001b[39mtransform(X_train)\n\u001b[1;32m      <a href='vscode-notebook-cell:/Users/simonefilosofi/Desktop/AI-ML-Project-2023-2024/AI_eda_simone_meli.ipynb#Y126sZmlsZQ%3D%3D?line=5'>6</a>\u001b[0m X_test \u001b[39m=\u001b[39m scaler_X\u001b[39m.\u001b[39mtransform(X_test)\n",
            "File \u001b[0;32m/opt/anaconda3/lib/python3.9/site-packages/sklearn/preprocessing/_data.py:806\u001b[0m, in \u001b[0;36mStandardScaler.fit\u001b[0;34m(self, X, y, sample_weight)\u001b[0m\n\u001b[1;32m    804\u001b[0m \u001b[39m# Reset internal state before fitting\u001b[39;00m\n\u001b[1;32m    805\u001b[0m \u001b[39mself\u001b[39m\u001b[39m.\u001b[39m_reset()\n\u001b[0;32m--> 806\u001b[0m \u001b[39mreturn\u001b[39;00m \u001b[39mself\u001b[39;49m\u001b[39m.\u001b[39;49mpartial_fit(X, y, sample_weight)\n",
            "File \u001b[0;32m/opt/anaconda3/lib/python3.9/site-packages/sklearn/preprocessing/_data.py:841\u001b[0m, in \u001b[0;36mStandardScaler.partial_fit\u001b[0;34m(self, X, y, sample_weight)\u001b[0m\n\u001b[1;32m    809\u001b[0m \u001b[39m\u001b[39m\u001b[39m\"\"\"Online computation of mean and std on X for later scaling.\u001b[39;00m\n\u001b[1;32m    810\u001b[0m \n\u001b[1;32m    811\u001b[0m \u001b[39mAll of X is processed as a single batch. This is intended for cases\u001b[39;00m\n\u001b[0;32m   (...)\u001b[0m\n\u001b[1;32m    838\u001b[0m \u001b[39m    Fitted scaler.\u001b[39;00m\n\u001b[1;32m    839\u001b[0m \u001b[39m\"\"\"\u001b[39;00m\n\u001b[1;32m    840\u001b[0m first_call \u001b[39m=\u001b[39m \u001b[39mnot\u001b[39;00m \u001b[39mhasattr\u001b[39m(\u001b[39mself\u001b[39m, \u001b[39m\"\u001b[39m\u001b[39mn_samples_seen_\u001b[39m\u001b[39m\"\u001b[39m)\n\u001b[0;32m--> 841\u001b[0m X \u001b[39m=\u001b[39m \u001b[39mself\u001b[39;49m\u001b[39m.\u001b[39;49m_validate_data(\n\u001b[1;32m    842\u001b[0m     X,\n\u001b[1;32m    843\u001b[0m     accept_sparse\u001b[39m=\u001b[39;49m(\u001b[39m\"\u001b[39;49m\u001b[39mcsr\u001b[39;49m\u001b[39m\"\u001b[39;49m, \u001b[39m\"\u001b[39;49m\u001b[39mcsc\u001b[39;49m\u001b[39m\"\u001b[39;49m),\n\u001b[1;32m    844\u001b[0m     estimator\u001b[39m=\u001b[39;49m\u001b[39mself\u001b[39;49m,\n\u001b[1;32m    845\u001b[0m     dtype\u001b[39m=\u001b[39;49mFLOAT_DTYPES,\n\u001b[1;32m    846\u001b[0m     force_all_finite\u001b[39m=\u001b[39;49m\u001b[39m\"\u001b[39;49m\u001b[39mallow-nan\u001b[39;49m\u001b[39m\"\u001b[39;49m,\n\u001b[1;32m    847\u001b[0m     reset\u001b[39m=\u001b[39;49mfirst_call,\n\u001b[1;32m    848\u001b[0m )\n\u001b[1;32m    849\u001b[0m n_features \u001b[39m=\u001b[39m X\u001b[39m.\u001b[39mshape[\u001b[39m1\u001b[39m]\n\u001b[1;32m    851\u001b[0m \u001b[39mif\u001b[39;00m sample_weight \u001b[39mis\u001b[39;00m \u001b[39mnot\u001b[39;00m \u001b[39mNone\u001b[39;00m:\n",
            "File \u001b[0;32m/opt/anaconda3/lib/python3.9/site-packages/sklearn/base.py:566\u001b[0m, in \u001b[0;36mBaseEstimator._validate_data\u001b[0;34m(self, X, y, reset, validate_separately, **check_params)\u001b[0m\n\u001b[1;32m    564\u001b[0m     \u001b[39mraise\u001b[39;00m \u001b[39mValueError\u001b[39;00m(\u001b[39m\"\u001b[39m\u001b[39mValidation should be done on X, y or both.\u001b[39m\u001b[39m\"\u001b[39m)\n\u001b[1;32m    565\u001b[0m \u001b[39melif\u001b[39;00m \u001b[39mnot\u001b[39;00m no_val_X \u001b[39mand\u001b[39;00m no_val_y:\n\u001b[0;32m--> 566\u001b[0m     X \u001b[39m=\u001b[39m check_array(X, \u001b[39m*\u001b[39;49m\u001b[39m*\u001b[39;49mcheck_params)\n\u001b[1;32m    567\u001b[0m     out \u001b[39m=\u001b[39m X\n\u001b[1;32m    568\u001b[0m \u001b[39melif\u001b[39;00m no_val_X \u001b[39mand\u001b[39;00m \u001b[39mnot\u001b[39;00m no_val_y:\n",
            "File \u001b[0;32m/opt/anaconda3/lib/python3.9/site-packages/sklearn/utils/validation.py:746\u001b[0m, in \u001b[0;36mcheck_array\u001b[0;34m(array, accept_sparse, accept_large_sparse, dtype, order, copy, force_all_finite, ensure_2d, allow_nd, ensure_min_samples, ensure_min_features, estimator)\u001b[0m\n\u001b[1;32m    744\u001b[0m         array \u001b[39m=\u001b[39m array\u001b[39m.\u001b[39mastype(dtype, casting\u001b[39m=\u001b[39m\u001b[39m\"\u001b[39m\u001b[39munsafe\u001b[39m\u001b[39m\"\u001b[39m, copy\u001b[39m=\u001b[39m\u001b[39mFalse\u001b[39;00m)\n\u001b[1;32m    745\u001b[0m     \u001b[39melse\u001b[39;00m:\n\u001b[0;32m--> 746\u001b[0m         array \u001b[39m=\u001b[39m np\u001b[39m.\u001b[39;49masarray(array, order\u001b[39m=\u001b[39;49morder, dtype\u001b[39m=\u001b[39;49mdtype)\n\u001b[1;32m    747\u001b[0m \u001b[39mexcept\u001b[39;00m ComplexWarning \u001b[39mas\u001b[39;00m complex_warning:\n\u001b[1;32m    748\u001b[0m     \u001b[39mraise\u001b[39;00m \u001b[39mValueError\u001b[39;00m(\n\u001b[1;32m    749\u001b[0m         \u001b[39m\"\u001b[39m\u001b[39mComplex data not supported\u001b[39m\u001b[39m\\n\u001b[39;00m\u001b[39m{}\u001b[39;00m\u001b[39m\\n\u001b[39;00m\u001b[39m\"\u001b[39m\u001b[39m.\u001b[39mformat(array)\n\u001b[1;32m    750\u001b[0m     ) \u001b[39mfrom\u001b[39;00m \u001b[39mcomplex_warning\u001b[39;00m\n",
            "File \u001b[0;32m/opt/anaconda3/lib/python3.9/site-packages/pandas/core/generic.py:2064\u001b[0m, in \u001b[0;36mNDFrame.__array__\u001b[0;34m(self, dtype)\u001b[0m\n\u001b[1;32m   2063\u001b[0m \u001b[39mdef\u001b[39;00m \u001b[39m__array__\u001b[39m(\u001b[39mself\u001b[39m, dtype: npt\u001b[39m.\u001b[39mDTypeLike \u001b[39m|\u001b[39m \u001b[39mNone\u001b[39;00m \u001b[39m=\u001b[39m \u001b[39mNone\u001b[39;00m) \u001b[39m-\u001b[39m\u001b[39m>\u001b[39m np\u001b[39m.\u001b[39mndarray:\n\u001b[0;32m-> 2064\u001b[0m     \u001b[39mreturn\u001b[39;00m np\u001b[39m.\u001b[39;49masarray(\u001b[39mself\u001b[39;49m\u001b[39m.\u001b[39;49m_values, dtype\u001b[39m=\u001b[39;49mdtype)\n",
            "\u001b[0;31mValueError\u001b[0m: setting an array element with a sequence."
          ]
        }
      ],
      "source": [
        "from sklearn.preprocessing import StandardScaler\n",
        "\n",
        "scaler_X = StandardScaler()\n",
        "scaler_X.fit(X_train)\n",
        "X_train = scaler_X.transform(X_train)\n",
        "X_test = scaler_X.transform(X_test)"
      ]
    },
    {
      "cell_type": "markdown",
      "metadata": {
        "id": "7I2FFq7L_QvZ"
      },
      "source": [
        "We applied *fit_transform* on the training set and  *transform* on the test set in order to standardize the data. We have to fit and transform the training set and only transform the test set, because the scaling parameters (mean and standard deviation in the case of StandardScaler) should be calculated based on the training set to prevent data leakage.\n",
        "\n",
        "Data leakage is when information from outside the training dataset is used to create the model. This can lead to the model learning from the test set, which will cause it to perform poorly on unseen data."
      ]
    },
    {
      "cell_type": "markdown",
      "metadata": {
        "id": "JVy1Do3cpgEd"
      },
      "source": [
        "### 4.6) Creating a Validation Set\n",
        "\n",
        "The main reason for creating a separate validation set is to have an unbiased evaluation of a model fit on the training dataset. It helps in tuning the model's hyperparameters and assessing its generalization to new data, without touching the test set until the final evaluation."
      ]
    },
    {
      "cell_type": "code",
      "execution_count": null,
      "metadata": {
        "id": "jVgWI-szpgEd"
      },
      "outputs": [],
      "source": [
        "from sklearn.model_selection import train_test_split\n",
        "\n",
        "X_train_new, X_val, y_train_new, y_val = train_test_split(X_train, y_train, test_size=0.25, random_state=42)\n"
      ]
    },
    {
      "cell_type": "markdown",
      "metadata": {
        "id": "PIvGKNkIpgEd"
      },
      "source": [
        "# 5) Model Building"
      ]
    },
    {
      "cell_type": "markdown",
      "metadata": {
        "id": "GXlFUWxwpgEd"
      },
      "source": [
        "### Model selection\n",
        "\n",
        "Since our target variable 'Satisfied' is categorical and  we have to predict if the curstomers are satisfied or not of the service, we are dealing with a classification problem. Furthermore, since the answer to our problem can be 'Yes' (satisfied) or 'No' (not satisfied), the outcome is binary.\n",
        "\n",
        "To take it forward, we are going to analyze these models:\n",
        "\n",
        "- ***Logistic regression***:\n",
        "- ***Classification Trees***:\n",
        "- ***Random Forest***:"
      ]
    },
    {
      "cell_type": "markdown",
      "metadata": {},
      "source": [
        "### 5.1) Testing Different Models"
      ]
    },
    {
      "cell_type": "code",
      "execution_count": 63,
      "metadata": {
        "colab": {
          "base_uri": "https://localhost:8080/"
        },
        "id": "sRCPdsTIpgEd",
        "outputId": "29358234-5e15-4fbc-be9c-4d69629013e1"
      },
      "outputs": [
        {
          "ename": "NameError",
          "evalue": "name 'X_train_new' is not defined",
          "output_type": "error",
          "traceback": [
            "\u001b[0;31m---------------------------------------------------------------------------\u001b[0m",
            "\u001b[0;31mNameError\u001b[0m                                 Traceback (most recent call last)",
            "\u001b[1;32m/Users/simonefilosofi/Desktop/AI-ML-Project-2023-2024/AI_eda_simone_meli.ipynb Cella 76\u001b[0m line \u001b[0;36m<cell line: 13>\u001b[0;34m()\u001b[0m\n\u001b[1;32m     <a href='vscode-notebook-cell:/Users/simonefilosofi/Desktop/AI-ML-Project-2023-2024/AI_eda_simone_meli.ipynb#Y135sZmlsZQ%3D%3D?line=11'>12</a>\u001b[0m \u001b[39m# Train each model and evaluate on both the training set and validation set\u001b[39;00m\n\u001b[1;32m     <a href='vscode-notebook-cell:/Users/simonefilosofi/Desktop/AI-ML-Project-2023-2024/AI_eda_simone_meli.ipynb#Y135sZmlsZQ%3D%3D?line=12'>13</a>\u001b[0m \u001b[39mfor\u001b[39;00m model \u001b[39min\u001b[39;00m [log_reg, dt_clf, rf_clf]:\n\u001b[0;32m---> <a href='vscode-notebook-cell:/Users/simonefilosofi/Desktop/AI-ML-Project-2023-2024/AI_eda_simone_meli.ipynb#Y135sZmlsZQ%3D%3D?line=13'>14</a>\u001b[0m     model\u001b[39m.\u001b[39mfit(X_train_new, y_train_new)\n\u001b[1;32m     <a href='vscode-notebook-cell:/Users/simonefilosofi/Desktop/AI-ML-Project-2023-2024/AI_eda_simone_meli.ipynb#Y135sZmlsZQ%3D%3D?line=15'>16</a>\u001b[0m     \u001b[39m# Calculate accuracy on the training set\u001b[39;00m\n\u001b[1;32m     <a href='vscode-notebook-cell:/Users/simonefilosofi/Desktop/AI-ML-Project-2023-2024/AI_eda_simone_meli.ipynb#Y135sZmlsZQ%3D%3D?line=16'>17</a>\u001b[0m     train_score \u001b[39m=\u001b[39m model\u001b[39m.\u001b[39mscore(X_train_new, y_train_new)\n",
            "\u001b[0;31mNameError\u001b[0m: name 'X_train_new' is not defined"
          ]
        }
      ],
      "source": [
        "from sklearn.linear_model import LogisticRegression\n",
        "from sklearn.tree import DecisionTreeClassifier\n",
        "from sklearn.ensemble import RandomForestClassifier\n",
        "\n",
        "\n",
        "# Initialize models with default hyperparameters\n",
        "log_reg = LogisticRegression()\n",
        "dt_clf = DecisionTreeClassifier()\n",
        "rf_clf = RandomForestClassifier()\n",
        "\n",
        "\n",
        "# Train each model and evaluate on both the training set and validation set\n",
        "for model in [log_reg, dt_clf, rf_clf]:\n",
        "    model.fit(X_train_new, y_train_new)\n",
        "\n",
        "    # Calculate accuracy on the training set\n",
        "    train_score = model.score(X_train_new, y_train_new)\n",
        "\n",
        "    # Calculate accuracy on the validation set\n",
        "    val_score = model.score(X_val, y_val)\n",
        "\n",
        "    # Print accuracy for both training and validation sets\n",
        "    print(f'{model.__class__.__name__} training accuracy: {train_score}')\n",
        "    print(f'{model.__class__.__name__} validation accuracy: {val_score}')\n",
        "    print('\\n')\n",
        "\n"
      ]
    },
    {
      "cell_type": "markdown",
      "metadata": {
        "id": "0s8y4GCA9cIE"
      },
      "source": [
        "The Logistic Regression model shows the smallest gap between training and validation accuracies, indicating good generalization. The Decision Tree and Random Forest models, despite a 100% training accuracy, also generalize well to new data.\n",
        "\n",
        "The Tree models show a perfect fit on the training data but a lower validation accuracy, suggesting potential overfitting. This is a typical behavior of decision trees, especially with complex datasets or without proper pruning.\n"
      ]
    },
    {
      "cell_type": "markdown",
      "metadata": {
        "id": "_41VoJWkpgEd"
      },
      "source": [
        "## 5.2) Hyperparameter Tuning Using Cross-Validation\n",
        "\n",
        "We decided to approach cross-validation, using Randomized Search followed by Grid Search for hyperparameter tuning. Such strategic approach balances the need for exploring a wide range of options (Randomized Search) with the need for finding the optimal combination in a focused range (Grid Search), leading to a more efficient and effective model tuning.\n",
        "\n",
        "\n",
        "\n",
        "\n",
        "\n",
        "\n"
      ]
    },
    {
      "cell_type": "markdown",
      "metadata": {
        "id": "uXKg3dpYpgEd"
      },
      "source": [
        "### 5.2.1) Randomized and Grid Search for Logistic Regression"
      ]
    },
    {
      "cell_type": "code",
      "execution_count": 64,
      "metadata": {
        "colab": {
          "base_uri": "https://localhost:8080/"
        },
        "id": "oKlbPIC-pgEd",
        "outputId": "a1799d92-bb56-4d30-b904-62100b65aebd"
      },
      "outputs": [
        {
          "name": "stderr",
          "output_type": "stream",
          "text": [
            "/opt/anaconda3/lib/python3.9/site-packages/sklearn/model_selection/_validation.py:372: FitFailedWarning: \n",
            "50 fits failed out of a total of 50.\n",
            "The score on these train-test partitions for these parameters will be set to nan.\n",
            "If these failures are not expected, you can try to debug them by setting error_score='raise'.\n",
            "\n",
            "Below are more details about the failures:\n",
            "--------------------------------------------------------------------------------\n",
            "40 fits failed with the following error:\n",
            "TypeError: float() argument must be a string or a number, not 'csr_matrix'\n",
            "\n",
            "The above exception was the direct cause of the following exception:\n",
            "\n",
            "Traceback (most recent call last):\n",
            "  File \"/opt/anaconda3/lib/python3.9/site-packages/sklearn/model_selection/_validation.py\", line 680, in _fit_and_score\n",
            "    estimator.fit(X_train, y_train, **fit_params)\n",
            "  File \"/opt/anaconda3/lib/python3.9/site-packages/sklearn/linear_model/_logistic.py\", line 1508, in fit\n",
            "    X, y = self._validate_data(\n",
            "  File \"/opt/anaconda3/lib/python3.9/site-packages/sklearn/base.py\", line 581, in _validate_data\n",
            "    X, y = check_X_y(X, y, **check_params)\n",
            "  File \"/opt/anaconda3/lib/python3.9/site-packages/sklearn/utils/validation.py\", line 964, in check_X_y\n",
            "    X = check_array(\n",
            "  File \"/opt/anaconda3/lib/python3.9/site-packages/sklearn/utils/validation.py\", line 746, in check_array\n",
            "    array = np.asarray(array, order=order, dtype=dtype)\n",
            "  File \"/opt/anaconda3/lib/python3.9/site-packages/pandas/core/generic.py\", line 2064, in __array__\n",
            "    return np.asarray(self._values, dtype=dtype)\n",
            "ValueError: setting an array element with a sequence.\n",
            "\n",
            "--------------------------------------------------------------------------------\n",
            "10 fits failed with the following error:\n",
            "Traceback (most recent call last):\n",
            "  File \"/opt/anaconda3/lib/python3.9/site-packages/sklearn/model_selection/_validation.py\", line 680, in _fit_and_score\n",
            "    estimator.fit(X_train, y_train, **fit_params)\n",
            "  File \"/opt/anaconda3/lib/python3.9/site-packages/sklearn/linear_model/_logistic.py\", line 1461, in fit\n",
            "    solver = _check_solver(self.solver, self.penalty, self.dual)\n",
            "  File \"/opt/anaconda3/lib/python3.9/site-packages/sklearn/linear_model/_logistic.py\", line 434, in _check_solver\n",
            "    raise ValueError(\n",
            "ValueError: Logistic Regression supports only solvers in ['liblinear', 'newton-cg', 'lbfgs', 'sag', 'saga'], got newton-cholesky.\n",
            "\n",
            "  warnings.warn(some_fits_failed_message, FitFailedWarning)\n",
            "/opt/anaconda3/lib/python3.9/site-packages/sklearn/model_selection/_search.py:969: UserWarning: One or more of the test scores are non-finite: [nan nan nan nan nan nan nan nan nan nan]\n",
            "  warnings.warn(\n",
            "/opt/anaconda3/lib/python3.9/site-packages/sklearn/model_selection/_search.py:969: UserWarning: One or more of the train scores are non-finite: [nan nan nan nan nan nan nan nan nan nan]\n",
            "  warnings.warn(\n"
          ]
        },
        {
          "ename": "ValueError",
          "evalue": "setting an array element with a sequence.",
          "output_type": "error",
          "traceback": [
            "\u001b[0;31m---------------------------------------------------------------------------\u001b[0m",
            "\u001b[0;31mTypeError\u001b[0m                                 Traceback (most recent call last)",
            "\u001b[0;31mTypeError\u001b[0m: float() argument must be a string or a number, not 'csr_matrix'",
            "\nThe above exception was the direct cause of the following exception:\n",
            "\u001b[0;31mValueError\u001b[0m                                Traceback (most recent call last)",
            "\u001b[1;32m/Users/simonefilosofi/Desktop/AI-ML-Project-2023-2024/AI_eda_simone_meli.ipynb Cella 80\u001b[0m line \u001b[0;36m<cell line: 10>\u001b[0;34m()\u001b[0m\n\u001b[1;32m      <a href='vscode-notebook-cell:/Users/simonefilosofi/Desktop/AI-ML-Project-2023-2024/AI_eda_simone_meli.ipynb#Y142sZmlsZQ%3D%3D?line=7'>8</a>\u001b[0m \u001b[39m# Randomized search with cross-validation\u001b[39;00m\n\u001b[1;32m      <a href='vscode-notebook-cell:/Users/simonefilosofi/Desktop/AI-ML-Project-2023-2024/AI_eda_simone_meli.ipynb#Y142sZmlsZQ%3D%3D?line=8'>9</a>\u001b[0m random_log_reg \u001b[39m=\u001b[39m RandomizedSearchCV(LogisticRegression(), param_distr_log_reg, n_iter\u001b[39m=\u001b[39m\u001b[39m10\u001b[39m, cv\u001b[39m=\u001b[39m\u001b[39m5\u001b[39m, random_state\u001b[39m=\u001b[39m\u001b[39m42\u001b[39m, n_jobs\u001b[39m=\u001b[39m\u001b[39m-\u001b[39m\u001b[39m1\u001b[39m, return_train_score\u001b[39m=\u001b[39m\u001b[39mTrue\u001b[39;00m)\n\u001b[0;32m---> <a href='vscode-notebook-cell:/Users/simonefilosofi/Desktop/AI-ML-Project-2023-2024/AI_eda_simone_meli.ipynb#Y142sZmlsZQ%3D%3D?line=9'>10</a>\u001b[0m random_log_reg\u001b[39m.\u001b[39;49mfit(X_train, y_train)\n\u001b[1;32m     <a href='vscode-notebook-cell:/Users/simonefilosofi/Desktop/AI-ML-Project-2023-2024/AI_eda_simone_meli.ipynb#Y142sZmlsZQ%3D%3D?line=11'>12</a>\u001b[0m \u001b[39m# Extract the mean and standard deviation of training and validation scores\u001b[39;00m\n\u001b[1;32m     <a href='vscode-notebook-cell:/Users/simonefilosofi/Desktop/AI-ML-Project-2023-2024/AI_eda_simone_meli.ipynb#Y142sZmlsZQ%3D%3D?line=12'>13</a>\u001b[0m mean_train_score \u001b[39m=\u001b[39m random_log_reg\u001b[39m.\u001b[39mcv_results_[\u001b[39m'\u001b[39m\u001b[39mmean_train_score\u001b[39m\u001b[39m'\u001b[39m][random_log_reg\u001b[39m.\u001b[39mbest_index_]\n",
            "File \u001b[0;32m/opt/anaconda3/lib/python3.9/site-packages/sklearn/model_selection/_search.py:926\u001b[0m, in \u001b[0;36mBaseSearchCV.fit\u001b[0;34m(self, X, y, groups, **fit_params)\u001b[0m\n\u001b[1;32m    924\u001b[0m refit_start_time \u001b[39m=\u001b[39m time\u001b[39m.\u001b[39mtime()\n\u001b[1;32m    925\u001b[0m \u001b[39mif\u001b[39;00m y \u001b[39mis\u001b[39;00m \u001b[39mnot\u001b[39;00m \u001b[39mNone\u001b[39;00m:\n\u001b[0;32m--> 926\u001b[0m     \u001b[39mself\u001b[39;49m\u001b[39m.\u001b[39;49mbest_estimator_\u001b[39m.\u001b[39;49mfit(X, y, \u001b[39m*\u001b[39;49m\u001b[39m*\u001b[39;49mfit_params)\n\u001b[1;32m    927\u001b[0m \u001b[39melse\u001b[39;00m:\n\u001b[1;32m    928\u001b[0m     \u001b[39mself\u001b[39m\u001b[39m.\u001b[39mbest_estimator_\u001b[39m.\u001b[39mfit(X, \u001b[39m*\u001b[39m\u001b[39m*\u001b[39mfit_params)\n",
            "File \u001b[0;32m/opt/anaconda3/lib/python3.9/site-packages/sklearn/linear_model/_logistic.py:1508\u001b[0m, in \u001b[0;36mLogisticRegression.fit\u001b[0;34m(self, X, y, sample_weight)\u001b[0m\n\u001b[1;32m   1505\u001b[0m \u001b[39melse\u001b[39;00m:\n\u001b[1;32m   1506\u001b[0m     _dtype \u001b[39m=\u001b[39m [np\u001b[39m.\u001b[39mfloat64, np\u001b[39m.\u001b[39mfloat32]\n\u001b[0;32m-> 1508\u001b[0m X, y \u001b[39m=\u001b[39m \u001b[39mself\u001b[39;49m\u001b[39m.\u001b[39;49m_validate_data(\n\u001b[1;32m   1509\u001b[0m     X,\n\u001b[1;32m   1510\u001b[0m     y,\n\u001b[1;32m   1511\u001b[0m     accept_sparse\u001b[39m=\u001b[39;49m\u001b[39m\"\u001b[39;49m\u001b[39mcsr\u001b[39;49m\u001b[39m\"\u001b[39;49m,\n\u001b[1;32m   1512\u001b[0m     dtype\u001b[39m=\u001b[39;49m_dtype,\n\u001b[1;32m   1513\u001b[0m     order\u001b[39m=\u001b[39;49m\u001b[39m\"\u001b[39;49m\u001b[39mC\u001b[39;49m\u001b[39m\"\u001b[39;49m,\n\u001b[1;32m   1514\u001b[0m     accept_large_sparse\u001b[39m=\u001b[39;49msolver \u001b[39mnot\u001b[39;49;00m \u001b[39min\u001b[39;49;00m [\u001b[39m\"\u001b[39;49m\u001b[39mliblinear\u001b[39;49m\u001b[39m\"\u001b[39;49m, \u001b[39m\"\u001b[39;49m\u001b[39msag\u001b[39;49m\u001b[39m\"\u001b[39;49m, \u001b[39m\"\u001b[39;49m\u001b[39msaga\u001b[39;49m\u001b[39m\"\u001b[39;49m],\n\u001b[1;32m   1515\u001b[0m )\n\u001b[1;32m   1516\u001b[0m check_classification_targets(y)\n\u001b[1;32m   1517\u001b[0m \u001b[39mself\u001b[39m\u001b[39m.\u001b[39mclasses_ \u001b[39m=\u001b[39m np\u001b[39m.\u001b[39munique(y)\n",
            "File \u001b[0;32m/opt/anaconda3/lib/python3.9/site-packages/sklearn/base.py:581\u001b[0m, in \u001b[0;36mBaseEstimator._validate_data\u001b[0;34m(self, X, y, reset, validate_separately, **check_params)\u001b[0m\n\u001b[1;32m    579\u001b[0m         y \u001b[39m=\u001b[39m check_array(y, \u001b[39m*\u001b[39m\u001b[39m*\u001b[39mcheck_y_params)\n\u001b[1;32m    580\u001b[0m     \u001b[39melse\u001b[39;00m:\n\u001b[0;32m--> 581\u001b[0m         X, y \u001b[39m=\u001b[39m check_X_y(X, y, \u001b[39m*\u001b[39;49m\u001b[39m*\u001b[39;49mcheck_params)\n\u001b[1;32m    582\u001b[0m     out \u001b[39m=\u001b[39m X, y\n\u001b[1;32m    584\u001b[0m \u001b[39mif\u001b[39;00m \u001b[39mnot\u001b[39;00m no_val_X \u001b[39mand\u001b[39;00m check_params\u001b[39m.\u001b[39mget(\u001b[39m\"\u001b[39m\u001b[39mensure_2d\u001b[39m\u001b[39m\"\u001b[39m, \u001b[39mTrue\u001b[39;00m):\n",
            "File \u001b[0;32m/opt/anaconda3/lib/python3.9/site-packages/sklearn/utils/validation.py:964\u001b[0m, in \u001b[0;36mcheck_X_y\u001b[0;34m(X, y, accept_sparse, accept_large_sparse, dtype, order, copy, force_all_finite, ensure_2d, allow_nd, multi_output, ensure_min_samples, ensure_min_features, y_numeric, estimator)\u001b[0m\n\u001b[1;32m    961\u001b[0m \u001b[39mif\u001b[39;00m y \u001b[39mis\u001b[39;00m \u001b[39mNone\u001b[39;00m:\n\u001b[1;32m    962\u001b[0m     \u001b[39mraise\u001b[39;00m \u001b[39mValueError\u001b[39;00m(\u001b[39m\"\u001b[39m\u001b[39my cannot be None\u001b[39m\u001b[39m\"\u001b[39m)\n\u001b[0;32m--> 964\u001b[0m X \u001b[39m=\u001b[39m check_array(\n\u001b[1;32m    965\u001b[0m     X,\n\u001b[1;32m    966\u001b[0m     accept_sparse\u001b[39m=\u001b[39;49maccept_sparse,\n\u001b[1;32m    967\u001b[0m     accept_large_sparse\u001b[39m=\u001b[39;49maccept_large_sparse,\n\u001b[1;32m    968\u001b[0m     dtype\u001b[39m=\u001b[39;49mdtype,\n\u001b[1;32m    969\u001b[0m     order\u001b[39m=\u001b[39;49morder,\n\u001b[1;32m    970\u001b[0m     copy\u001b[39m=\u001b[39;49mcopy,\n\u001b[1;32m    971\u001b[0m     force_all_finite\u001b[39m=\u001b[39;49mforce_all_finite,\n\u001b[1;32m    972\u001b[0m     ensure_2d\u001b[39m=\u001b[39;49mensure_2d,\n\u001b[1;32m    973\u001b[0m     allow_nd\u001b[39m=\u001b[39;49mallow_nd,\n\u001b[1;32m    974\u001b[0m     ensure_min_samples\u001b[39m=\u001b[39;49mensure_min_samples,\n\u001b[1;32m    975\u001b[0m     ensure_min_features\u001b[39m=\u001b[39;49mensure_min_features,\n\u001b[1;32m    976\u001b[0m     estimator\u001b[39m=\u001b[39;49mestimator,\n\u001b[1;32m    977\u001b[0m )\n\u001b[1;32m    979\u001b[0m y \u001b[39m=\u001b[39m _check_y(y, multi_output\u001b[39m=\u001b[39mmulti_output, y_numeric\u001b[39m=\u001b[39my_numeric)\n\u001b[1;32m    981\u001b[0m check_consistent_length(X, y)\n",
            "File \u001b[0;32m/opt/anaconda3/lib/python3.9/site-packages/sklearn/utils/validation.py:746\u001b[0m, in \u001b[0;36mcheck_array\u001b[0;34m(array, accept_sparse, accept_large_sparse, dtype, order, copy, force_all_finite, ensure_2d, allow_nd, ensure_min_samples, ensure_min_features, estimator)\u001b[0m\n\u001b[1;32m    744\u001b[0m         array \u001b[39m=\u001b[39m array\u001b[39m.\u001b[39mastype(dtype, casting\u001b[39m=\u001b[39m\u001b[39m\"\u001b[39m\u001b[39munsafe\u001b[39m\u001b[39m\"\u001b[39m, copy\u001b[39m=\u001b[39m\u001b[39mFalse\u001b[39;00m)\n\u001b[1;32m    745\u001b[0m     \u001b[39melse\u001b[39;00m:\n\u001b[0;32m--> 746\u001b[0m         array \u001b[39m=\u001b[39m np\u001b[39m.\u001b[39;49masarray(array, order\u001b[39m=\u001b[39;49morder, dtype\u001b[39m=\u001b[39;49mdtype)\n\u001b[1;32m    747\u001b[0m \u001b[39mexcept\u001b[39;00m ComplexWarning \u001b[39mas\u001b[39;00m complex_warning:\n\u001b[1;32m    748\u001b[0m     \u001b[39mraise\u001b[39;00m \u001b[39mValueError\u001b[39;00m(\n\u001b[1;32m    749\u001b[0m         \u001b[39m\"\u001b[39m\u001b[39mComplex data not supported\u001b[39m\u001b[39m\\n\u001b[39;00m\u001b[39m{}\u001b[39;00m\u001b[39m\\n\u001b[39;00m\u001b[39m\"\u001b[39m\u001b[39m.\u001b[39mformat(array)\n\u001b[1;32m    750\u001b[0m     ) \u001b[39mfrom\u001b[39;00m \u001b[39mcomplex_warning\u001b[39;00m\n",
            "File \u001b[0;32m/opt/anaconda3/lib/python3.9/site-packages/pandas/core/generic.py:2064\u001b[0m, in \u001b[0;36mNDFrame.__array__\u001b[0;34m(self, dtype)\u001b[0m\n\u001b[1;32m   2063\u001b[0m \u001b[39mdef\u001b[39;00m \u001b[39m__array__\u001b[39m(\u001b[39mself\u001b[39m, dtype: npt\u001b[39m.\u001b[39mDTypeLike \u001b[39m|\u001b[39m \u001b[39mNone\u001b[39;00m \u001b[39m=\u001b[39m \u001b[39mNone\u001b[39;00m) \u001b[39m-\u001b[39m\u001b[39m>\u001b[39m np\u001b[39m.\u001b[39mndarray:\n\u001b[0;32m-> 2064\u001b[0m     \u001b[39mreturn\u001b[39;00m np\u001b[39m.\u001b[39;49masarray(\u001b[39mself\u001b[39;49m\u001b[39m.\u001b[39;49m_values, dtype\u001b[39m=\u001b[39;49mdtype)\n",
            "\u001b[0;31mValueError\u001b[0m: setting an array element with a sequence."
          ]
        }
      ],
      "source": [
        "from sklearn.model_selection import RandomizedSearchCV\n",
        "from scipy.stats import uniform\n",
        "\n",
        "# Parameter distribution\n",
        "c_range = np.arange(0.01, 10, 0.01)\n",
        "param_distr_log_reg = {'C': c_range, 'solver': ['lbfgs', 'liblinear', 'newton-cg', 'newton-cholesky'], 'penalty': ['l2']}\n",
        "\n",
        "# Randomized search with cross-validation\n",
        "random_log_reg = RandomizedSearchCV(LogisticRegression(), param_distr_log_reg, n_iter=10, cv=5, random_state=42, n_jobs=-1, return_train_score=True)\n",
        "random_log_reg.fit(X_train, y_train)\n",
        "\n",
        "# Extract the mean and standard deviation of training and validation scores\n",
        "mean_train_score = random_log_reg.cv_results_['mean_train_score'][random_log_reg.best_index_]\n",
        "std_train_score = random_log_reg.cv_results_['std_train_score'][random_log_reg.best_index_]\n",
        "mean_test_score = random_log_reg.cv_results_['mean_test_score'][random_log_reg.best_index_]\n",
        "std_test_score = random_log_reg.cv_results_['std_test_score'][random_log_reg.best_index_]\n",
        "\n",
        "# Print the results\n",
        "print(\"Best parameters for Logistic Regression:\", random_log_reg.best_params_)\n",
        "print(\"Best training score for Logistic Regression:\", mean_train_score)\n",
        "print(\"Standard deviation in training score:\", std_train_score)\n",
        "print(\"Best cross-validation score for Logistic Regression:\", mean_test_score)\n",
        "print(\"Standard deviation in cross-validation score:\", std_test_score)"
      ]
    },
    {
      "cell_type": "markdown",
      "metadata": {
        "id": "oiUgRdJE2uTl"
      },
      "source": [
        "To perform the grid search, we need to define a grid of hyperparameters. We will use the following grid:\n",
        "- penalty: the one suggested by the randomized search\n",
        "- C: we consider 10 values around the one suggested by the randomized search\n",
        "- solver: the one suggested by the randomized search"
      ]
    },
    {
      "cell_type": "code",
      "execution_count": null,
      "metadata": {
        "colab": {
          "base_uri": "https://localhost:8080/"
        },
        "id": "4oNCeRctpgEe",
        "outputId": "cb6360bf-8f76-4138-f32c-f28642a9c0f1"
      },
      "outputs": [
        {
          "name": "stdout",
          "output_type": "stream",
          "text": [
            "Best parameters for Logistic Regression: {'C': 7.840000000000001, 'penalty': 'l2', 'solver': 'newton-cg'}\n",
            "Best training score for Logistic Regression: 0.8872514404344086\n",
            "Standard deviation in training score: 0.00109674259718711\n",
            "Best cross-validation score for Logistic Regression: 0.8873505906909047\n",
            "Standard deviation in cross-validation score: 0.0034503821326557662\n"
          ]
        }
      ],
      "source": [
        "from sklearn.model_selection import GridSearchCV\n",
        "\n",
        "c_value = random_log_reg.best_params_['C']\n",
        "solver_value = random_log_reg.best_params_['solver']\n",
        "penalty_value = random_log_reg.best_params_['penalty']\n",
        "c_values_range = np.arange(c_value-0.1, c_value+0.1, 0.01)\n",
        "\n",
        "# Parameter distribution\n",
        "param_distr_log_reg = {'C': c_values_range, 'solver': [solver_value], 'penalty': [penalty_value]}\n",
        "\n",
        "# Grid search with cross-validation\n",
        "grid_log_reg = GridSearchCV(LogisticRegression(), param_distr_log_reg, cv=5, n_jobs=-1, return_train_score=True)\n",
        "grid_log_reg.fit(X_train, y_train)\n",
        "\n",
        "# Extract the mean and standard deviation of training and validation scores\n",
        "mean_train_score = grid_log_reg.cv_results_['mean_train_score'][grid_log_reg.best_index_]\n",
        "std_train_score = grid_log_reg.cv_results_['std_train_score'][grid_log_reg.best_index_]\n",
        "mean_test_score = grid_log_reg.cv_results_['mean_test_score'][grid_log_reg.best_index_]\n",
        "std_test_score = grid_log_reg.cv_results_['std_test_score'][grid_log_reg.best_index_]\n",
        "\n",
        "# Print the results\n",
        "print('Best parameters for Logistic Regression:', grid_log_reg.best_params_)\n",
        "print('Best training score for Logistic Regression:', mean_train_score)\n",
        "print('Standard deviation in training score:', std_train_score)\n",
        "print('Best cross-validation score for Logistic Regression:', mean_test_score)\n",
        "print('Standard deviation in cross-validation score:', std_test_score)"
      ]
    },
    {
      "cell_type": "markdown",
      "metadata": {
        "id": "3r9hWowV_GvY"
      },
      "source": [
        "The Logistic Regression model, with the specified combination of hyperparameters, shows strong and consistent performance on the training data. The close alignment of training and cross-validation scores indicates good generalizability of the model."
      ]
    },
    {
      "cell_type": "markdown",
      "metadata": {
        "id": "aJnEXFwlpgEe"
      },
      "source": [
        "### 5.2.2) Randomized and Grid Search for Decision Tree"
      ]
    },
    {
      "cell_type": "code",
      "execution_count": null,
      "metadata": {
        "colab": {
          "base_uri": "https://localhost:8080/"
        },
        "id": "8kkodalRpgEe",
        "outputId": "bc7050ab-cb04-4569-88f9-89847d0400eb"
      },
      "outputs": [
        {
          "name": "stdout",
          "output_type": "stream",
          "text": [
            "Best parameters for Decision Tree: {'max_depth': 11, 'min_samples_leaf': 4, 'min_samples_split': 9}\n",
            "Best training score for Decision Tree: 0.9624538913661189\n",
            "Standard deviation in training score: 0.00039917218334164947\n",
            "Best cross-validation score for Decision Tree: 0.9573651851152034\n",
            "Standard deviation in cross-validation score: 0.0021205658623020948\n"
          ]
        }
      ],
      "source": [
        "from scipy.stats import randint\n",
        "\n",
        "# Parameter distribution for Decision Tree\n",
        "param_distr_dt = {'max_depth': randint(1, 30), 'min_samples_split': randint(2, 20), 'min_samples_leaf': randint(1, 20)}\n",
        "\n",
        "# Randomized search with cross-validation\n",
        "random_dt = RandomizedSearchCV(DecisionTreeClassifier(), param_distr_dt, n_iter=10, cv=5, random_state=42, n_jobs=-1, return_train_score=True)\n",
        "random_dt.fit(X_train, y_train)\n",
        "\n",
        "# Extract the mean and standard deviation of training and validation scores\n",
        "mean_train_score_dt = random_dt.cv_results_['mean_train_score'][random_dt.best_index_]\n",
        "std_train_score_dt = random_dt.cv_results_['std_train_score'][random_dt.best_index_]\n",
        "mean_test_score_dt = random_dt.cv_results_['mean_test_score'][random_dt.best_index_]\n",
        "std_test_score_dt = random_dt.cv_results_['std_test_score'][random_dt.best_index_]\n",
        "\n",
        "# Print the results\n",
        "print(\"Best parameters for Decision Tree:\", random_dt.best_params_)\n",
        "print(\"Best training score for Decision Tree:\", mean_train_score_dt)\n",
        "print(\"Standard deviation in training score:\", std_train_score_dt)\n",
        "print(\"Best cross-validation score for Decision Tree:\", mean_test_score_dt)\n",
        "print(\"Standard deviation in cross-validation score:\", std_test_score_dt)\n"
      ]
    },
    {
      "cell_type": "code",
      "execution_count": null,
      "metadata": {
        "colab": {
          "base_uri": "https://localhost:8080/",
          "height": 390
        },
        "id": "OqWtd_6G7Ool",
        "outputId": "b269f437-6666-4e68-b3f5-93624cebbf76"
      },
      "outputs": [
        {
          "ename": "KeyboardInterrupt",
          "evalue": "ignored",
          "output_type": "error",
          "traceback": [
            "\u001b[0;31m---------------------------------------------------------------------------\u001b[0m",
            "\u001b[0;31mKeyboardInterrupt\u001b[0m                         Traceback (most recent call last)",
            "\u001b[0;32m<ipython-input-68-b439fa0e893a>\u001b[0m in \u001b[0;36m<cell line: 22>\u001b[0;34m()\u001b[0m\n\u001b[1;32m     20\u001b[0m \u001b[0;31m# Grid search with cross-validation\u001b[0m\u001b[0;34m\u001b[0m\u001b[0;34m\u001b[0m\u001b[0m\n\u001b[1;32m     21\u001b[0m \u001b[0mgrid_dt\u001b[0m \u001b[0;34m=\u001b[0m \u001b[0mGridSearchCV\u001b[0m\u001b[0;34m(\u001b[0m\u001b[0mDecisionTreeClassifier\u001b[0m\u001b[0;34m(\u001b[0m\u001b[0;34m)\u001b[0m\u001b[0;34m,\u001b[0m \u001b[0mparam_grid_dt\u001b[0m\u001b[0;34m,\u001b[0m \u001b[0mcv\u001b[0m\u001b[0;34m=\u001b[0m\u001b[0;36m5\u001b[0m\u001b[0;34m,\u001b[0m \u001b[0mn_jobs\u001b[0m\u001b[0;34m=\u001b[0m\u001b[0;34m-\u001b[0m\u001b[0;36m1\u001b[0m\u001b[0;34m,\u001b[0m \u001b[0mreturn_train_score\u001b[0m\u001b[0;34m=\u001b[0m\u001b[0;32mTrue\u001b[0m\u001b[0;34m)\u001b[0m\u001b[0;34m\u001b[0m\u001b[0;34m\u001b[0m\u001b[0m\n\u001b[0;32m---> 22\u001b[0;31m \u001b[0mgrid_dt\u001b[0m\u001b[0;34m.\u001b[0m\u001b[0mfit\u001b[0m\u001b[0;34m(\u001b[0m\u001b[0mX_train\u001b[0m\u001b[0;34m,\u001b[0m \u001b[0my_train\u001b[0m\u001b[0;34m)\u001b[0m\u001b[0;34m\u001b[0m\u001b[0;34m\u001b[0m\u001b[0m\n\u001b[0m\u001b[1;32m     23\u001b[0m \u001b[0;34m\u001b[0m\u001b[0m\n\u001b[1;32m     24\u001b[0m \u001b[0;31m# Extract the mean and standard deviation of training and validation scores\u001b[0m\u001b[0;34m\u001b[0m\u001b[0;34m\u001b[0m\u001b[0m\n",
            "\u001b[0;32m/usr/local/lib/python3.10/dist-packages/sklearn/model_selection/_search.py\u001b[0m in \u001b[0;36mfit\u001b[0;34m(self, X, y, groups, **fit_params)\u001b[0m\n\u001b[1;32m    872\u001b[0m                 \u001b[0;32mreturn\u001b[0m \u001b[0mresults\u001b[0m\u001b[0;34m\u001b[0m\u001b[0;34m\u001b[0m\u001b[0m\n\u001b[1;32m    873\u001b[0m \u001b[0;34m\u001b[0m\u001b[0m\n\u001b[0;32m--> 874\u001b[0;31m             \u001b[0mself\u001b[0m\u001b[0;34m.\u001b[0m\u001b[0m_run_search\u001b[0m\u001b[0;34m(\u001b[0m\u001b[0mevaluate_candidates\u001b[0m\u001b[0;34m)\u001b[0m\u001b[0;34m\u001b[0m\u001b[0;34m\u001b[0m\u001b[0m\n\u001b[0m\u001b[1;32m    875\u001b[0m \u001b[0;34m\u001b[0m\u001b[0m\n\u001b[1;32m    876\u001b[0m             \u001b[0;31m# multimetric is determined here because in the case of a callable\u001b[0m\u001b[0;34m\u001b[0m\u001b[0;34m\u001b[0m\u001b[0m\n",
            "\u001b[0;32m/usr/local/lib/python3.10/dist-packages/sklearn/model_selection/_search.py\u001b[0m in \u001b[0;36m_run_search\u001b[0;34m(self, evaluate_candidates)\u001b[0m\n\u001b[1;32m   1386\u001b[0m     \u001b[0;32mdef\u001b[0m \u001b[0m_run_search\u001b[0m\u001b[0;34m(\u001b[0m\u001b[0mself\u001b[0m\u001b[0;34m,\u001b[0m \u001b[0mevaluate_candidates\u001b[0m\u001b[0;34m)\u001b[0m\u001b[0;34m:\u001b[0m\u001b[0;34m\u001b[0m\u001b[0;34m\u001b[0m\u001b[0m\n\u001b[1;32m   1387\u001b[0m         \u001b[0;34m\"\"\"Search all candidates in param_grid\"\"\"\u001b[0m\u001b[0;34m\u001b[0m\u001b[0;34m\u001b[0m\u001b[0m\n\u001b[0;32m-> 1388\u001b[0;31m         \u001b[0mevaluate_candidates\u001b[0m\u001b[0;34m(\u001b[0m\u001b[0mParameterGrid\u001b[0m\u001b[0;34m(\u001b[0m\u001b[0mself\u001b[0m\u001b[0;34m.\u001b[0m\u001b[0mparam_grid\u001b[0m\u001b[0;34m)\u001b[0m\u001b[0;34m)\u001b[0m\u001b[0;34m\u001b[0m\u001b[0;34m\u001b[0m\u001b[0m\n\u001b[0m\u001b[1;32m   1389\u001b[0m \u001b[0;34m\u001b[0m\u001b[0m\n\u001b[1;32m   1390\u001b[0m \u001b[0;34m\u001b[0m\u001b[0m\n",
            "\u001b[0;32m/usr/local/lib/python3.10/dist-packages/sklearn/model_selection/_search.py\u001b[0m in \u001b[0;36mevaluate_candidates\u001b[0;34m(candidate_params, cv, more_results)\u001b[0m\n\u001b[1;32m    819\u001b[0m                     )\n\u001b[1;32m    820\u001b[0m \u001b[0;34m\u001b[0m\u001b[0m\n\u001b[0;32m--> 821\u001b[0;31m                 out = parallel(\n\u001b[0m\u001b[1;32m    822\u001b[0m                     delayed(_fit_and_score)(\n\u001b[1;32m    823\u001b[0m                         \u001b[0mclone\u001b[0m\u001b[0;34m(\u001b[0m\u001b[0mbase_estimator\u001b[0m\u001b[0;34m)\u001b[0m\u001b[0;34m,\u001b[0m\u001b[0;34m\u001b[0m\u001b[0;34m\u001b[0m\u001b[0m\n",
            "\u001b[0;32m/usr/local/lib/python3.10/dist-packages/sklearn/utils/parallel.py\u001b[0m in \u001b[0;36m__call__\u001b[0;34m(self, iterable)\u001b[0m\n\u001b[1;32m     61\u001b[0m             \u001b[0;32mfor\u001b[0m \u001b[0mdelayed_func\u001b[0m\u001b[0;34m,\u001b[0m \u001b[0margs\u001b[0m\u001b[0;34m,\u001b[0m \u001b[0mkwargs\u001b[0m \u001b[0;32min\u001b[0m \u001b[0miterable\u001b[0m\u001b[0;34m\u001b[0m\u001b[0;34m\u001b[0m\u001b[0m\n\u001b[1;32m     62\u001b[0m         )\n\u001b[0;32m---> 63\u001b[0;31m         \u001b[0;32mreturn\u001b[0m \u001b[0msuper\u001b[0m\u001b[0;34m(\u001b[0m\u001b[0;34m)\u001b[0m\u001b[0;34m.\u001b[0m\u001b[0m__call__\u001b[0m\u001b[0;34m(\u001b[0m\u001b[0miterable_with_config\u001b[0m\u001b[0;34m)\u001b[0m\u001b[0;34m\u001b[0m\u001b[0;34m\u001b[0m\u001b[0m\n\u001b[0m\u001b[1;32m     64\u001b[0m \u001b[0;34m\u001b[0m\u001b[0m\n\u001b[1;32m     65\u001b[0m \u001b[0;34m\u001b[0m\u001b[0m\n",
            "\u001b[0;32m/usr/local/lib/python3.10/dist-packages/joblib/parallel.py\u001b[0m in \u001b[0;36m__call__\u001b[0;34m(self, iterable)\u001b[0m\n\u001b[1;32m   1950\u001b[0m         \u001b[0mnext\u001b[0m\u001b[0;34m(\u001b[0m\u001b[0moutput\u001b[0m\u001b[0;34m)\u001b[0m\u001b[0;34m\u001b[0m\u001b[0;34m\u001b[0m\u001b[0m\n\u001b[1;32m   1951\u001b[0m \u001b[0;34m\u001b[0m\u001b[0m\n\u001b[0;32m-> 1952\u001b[0;31m         \u001b[0;32mreturn\u001b[0m \u001b[0moutput\u001b[0m \u001b[0;32mif\u001b[0m \u001b[0mself\u001b[0m\u001b[0;34m.\u001b[0m\u001b[0mreturn_generator\u001b[0m \u001b[0;32melse\u001b[0m \u001b[0mlist\u001b[0m\u001b[0;34m(\u001b[0m\u001b[0moutput\u001b[0m\u001b[0;34m)\u001b[0m\u001b[0;34m\u001b[0m\u001b[0;34m\u001b[0m\u001b[0m\n\u001b[0m\u001b[1;32m   1953\u001b[0m \u001b[0;34m\u001b[0m\u001b[0m\n\u001b[1;32m   1954\u001b[0m     \u001b[0;32mdef\u001b[0m \u001b[0m__repr__\u001b[0m\u001b[0;34m(\u001b[0m\u001b[0mself\u001b[0m\u001b[0;34m)\u001b[0m\u001b[0;34m:\u001b[0m\u001b[0;34m\u001b[0m\u001b[0;34m\u001b[0m\u001b[0m\n",
            "\u001b[0;32m/usr/local/lib/python3.10/dist-packages/joblib/parallel.py\u001b[0m in \u001b[0;36m_get_outputs\u001b[0;34m(self, iterator, pre_dispatch)\u001b[0m\n\u001b[1;32m   1593\u001b[0m \u001b[0;34m\u001b[0m\u001b[0m\n\u001b[1;32m   1594\u001b[0m             \u001b[0;32mwith\u001b[0m \u001b[0mself\u001b[0m\u001b[0;34m.\u001b[0m\u001b[0m_backend\u001b[0m\u001b[0;34m.\u001b[0m\u001b[0mretrieval_context\u001b[0m\u001b[0;34m(\u001b[0m\u001b[0;34m)\u001b[0m\u001b[0;34m:\u001b[0m\u001b[0;34m\u001b[0m\u001b[0;34m\u001b[0m\u001b[0m\n\u001b[0;32m-> 1595\u001b[0;31m                 \u001b[0;32myield\u001b[0m \u001b[0;32mfrom\u001b[0m \u001b[0mself\u001b[0m\u001b[0;34m.\u001b[0m\u001b[0m_retrieve\u001b[0m\u001b[0;34m(\u001b[0m\u001b[0;34m)\u001b[0m\u001b[0;34m\u001b[0m\u001b[0;34m\u001b[0m\u001b[0m\n\u001b[0m\u001b[1;32m   1596\u001b[0m \u001b[0;34m\u001b[0m\u001b[0m\n\u001b[1;32m   1597\u001b[0m         \u001b[0;32mexcept\u001b[0m \u001b[0mGeneratorExit\u001b[0m\u001b[0;34m:\u001b[0m\u001b[0;34m\u001b[0m\u001b[0;34m\u001b[0m\u001b[0m\n",
            "\u001b[0;32m/usr/local/lib/python3.10/dist-packages/joblib/parallel.py\u001b[0m in \u001b[0;36m_retrieve\u001b[0;34m(self)\u001b[0m\n\u001b[1;32m   1705\u001b[0m                 (self._jobs[0].get_status(\n\u001b[1;32m   1706\u001b[0m                     timeout=self.timeout) == TASK_PENDING)):\n\u001b[0;32m-> 1707\u001b[0;31m                 \u001b[0mtime\u001b[0m\u001b[0;34m.\u001b[0m\u001b[0msleep\u001b[0m\u001b[0;34m(\u001b[0m\u001b[0;36m0.01\u001b[0m\u001b[0;34m)\u001b[0m\u001b[0;34m\u001b[0m\u001b[0;34m\u001b[0m\u001b[0m\n\u001b[0m\u001b[1;32m   1708\u001b[0m                 \u001b[0;32mcontinue\u001b[0m\u001b[0;34m\u001b[0m\u001b[0;34m\u001b[0m\u001b[0m\n\u001b[1;32m   1709\u001b[0m \u001b[0;34m\u001b[0m\u001b[0m\n",
            "\u001b[0;31mKeyboardInterrupt\u001b[0m: "
          ]
        }
      ],
      "source": [
        "from sklearn.model_selection import GridSearchCV\n",
        "\n",
        "# Extracting best parameters from the randomized search\n",
        "max_depth_value = random_dt.best_params_['max_depth']\n",
        "min_samples_split_value = random_dt.best_params_['min_samples_split']\n",
        "min_samples_leaf_value = random_dt.best_params_['min_samples_leaf']\n",
        "\n",
        "# Defining the parameter range for the grid search\n",
        "max_depth_range = np.arange(max(1, max_depth_value - 3), max_depth_value + 4)\n",
        "min_samples_split_range = np.arange(max(2, min_samples_split_value - 2), min_samples_split_value + 3)\n",
        "min_samples_leaf_range = np.arange(max(1, min_samples_leaf_value - 2), min_samples_leaf_value + 3)\n",
        "\n",
        "# Parameter grid for Decision Tree\n",
        "param_grid_dt = {\n",
        "    'max_depth': max_depth_range,\n",
        "    'min_samples_split': min_samples_split_range,\n",
        "    'min_samples_leaf': min_samples_leaf_range\n",
        "}\n",
        "\n",
        "# Grid search with cross-validation\n",
        "grid_dt = GridSearchCV(DecisionTreeClassifier(), param_grid_dt, cv=5, n_jobs=-1, return_train_score=True)\n",
        "grid_dt.fit(X_train, y_train)\n",
        "\n",
        "# Extract the mean and standard deviation of training and validation scores\n",
        "mean_train_score_dt = grid_dt.cv_results_['mean_train_score'][grid_dt.best_index_]\n",
        "std_train_score_dt = grid_dt.cv_results_['std_train_score'][grid_dt.best_index_]\n",
        "mean_test_score_dt = grid_dt.cv_results_['mean_test_score'][grid_dt.best_index_]\n",
        "std_test_score_dt = grid_dt.cv_results_['std_test_score'][grid_dt.best_index_]\n",
        "\n",
        "# Print the results\n",
        "print(\"Best parameters for Decision Tree:\", grid_dt.best_params_)\n",
        "print(\"Best training score for Decision Tree:\", mean_train_score_dt)\n",
        "print(\"Standard deviation in training score:\", std_train_score_dt)\n",
        "print(\"Best cross-validation score for Decision Tree:\", mean_test_score_dt)\n",
        "print(\"Standard deviation in cross-validation score:\", std_test_score_dt)\n"
      ]
    },
    {
      "cell_type": "markdown",
      "metadata": {
        "id": "MM3MZcIw_j_U"
      },
      "source": [
        "The Decision Tree model shows excellent performance on both training and validation datasets after hyperparameter tuning.\n",
        "The selected hyperparameters have effectively controlled overfitting, as evidenced by the high and closely matched training and cross-validation scores."
      ]
    },
    {
      "cell_type": "markdown",
      "metadata": {
        "id": "MgOZI6EtpgEe"
      },
      "source": [
        "### 5.2.3) Randomized and Grid Search for Random Forest"
      ]
    },
    {
      "cell_type": "code",
      "execution_count": null,
      "metadata": {
        "id": "oaoQnBSWpgEe"
      },
      "outputs": [],
      "source": [
        "from scipy.stats import randint\n",
        "\n",
        "# Parameter distribution\n",
        "param_distr_rf = {'n_estimators': randint(100, 300), 'max_features': ['sqrt', 'log2'], 'max_depth': randint(10, 30)}\n",
        "\n",
        "# Randomized search with cross-validation\n",
        "random_rf = RandomizedSearchCV(RandomForestClassifier(), param_distr_rf, n_iter=10, cv=5, random_state=42, n_jobs=-1, return_train_score=True)\n",
        "random_rf.fit(X_train, y_train)\n",
        "\n",
        "# Extract the mean and standard deviation of training and validation scores\n",
        "mean_train_score_rf = random_rf.cv_results_['mean_train_score'][random_rf.best_index_]\n",
        "std_train_score_rf = random_rf.cv_results_['std_train_score'][random_rf.best_index_]\n",
        "mean_test_score_rf = random_rf.cv_results_['mean_test_score'][random_rf.best_index_]\n",
        "std_test_score_rf = random_rf.cv_results_['std_test_score'][random_rf.best_index_]\n",
        "\n",
        "# Print the results\n",
        "print(\"Best parameters for RandomForest:\", random_rf.best_params_)\n",
        "print(\"Best training score for RandomForest:\", mean_train_score_rf)\n",
        "print(\"Standard deviation in training score:\", std_train_score_rf)\n",
        "print(\"Best cross-validation score for RandomForest:\", mean_test_score_rf)\n",
        "print(\"Standard deviation in cross-validation score:\", std_test_score_rf)"
      ]
    },
    {
      "cell_type": "code",
      "execution_count": null,
      "metadata": {
        "id": "zhtWRQis965L"
      },
      "outputs": [],
      "source": [
        "from sklearn.model_selection import GridSearchCV\n",
        "\n",
        "# Extracting best parameters from the randomized search\n",
        "n_estimators_value = random_rf.best_params_['n_estimators']\n",
        "max_features_value = random_rf.best_params_['max_features']\n",
        "max_depth_value = random_rf.best_params_['max_depth']\n",
        "\n",
        "# Defining the parameter range for the grid search\n",
        "n_estimators_range = np.arange(max(100, n_estimators_value - 50), n_estimators_value + 51, 10)\n",
        "max_depth_range = np.arange(max(10, max_depth_value - 5), max_depth_value + 6)\n",
        "\n",
        "# Parameter grid for Random Forest\n",
        "param_grid_rf = {\n",
        "    'n_estimators': n_estimators_range,\n",
        "    'max_features': [max_features_value],  # keeping the best value from randomized search\n",
        "    'max_depth': max_depth_range\n",
        "}\n",
        "\n",
        "# Grid search with cross-validation\n",
        "grid_rf = GridSearchCV(RandomForestClassifier(), param_grid_rf, cv=5, n_jobs=-1, return_train_score=True)\n",
        "grid_rf.fit(X_train, y_train)\n",
        "\n",
        "# Extract the mean and standard deviation of training and validation scores\n",
        "mean_train_score_rf = grid_rf.cv_results_['mean_train_score'][grid_rf.best_index_]\n",
        "std_train_score_rf = grid_rf.cv_results_['std_train_score'][grid_rf.best_index_]\n",
        "mean_test_score_rf = grid_rf.cv_results_['mean_test_score'][grid_rf.best_index_]\n",
        "std_test_score_rf = grid_rf.cv_results_['std_test_score'][grid_rf.best_index_]\n",
        "\n",
        "# Print the results\n",
        "print(\"Best parameters for Random Forest:\", grid_rf.best_params_)\n",
        "print(\"Best training score for Random Forest:\", mean_train_score_rf)\n",
        "print(\"Standard deviation in training score:\", std_train_score_rf)\n",
        "print(\"Best cross-validation score for Random Forest:\", mean_test_score_rf)\n",
        "print(\"Standard deviation in cross-validation score:\", std_test_score_rf)\n"
      ]
    },
    {
      "cell_type": "markdown",
      "metadata": {
        "id": "vJGcLlCypgEe"
      },
      "source": [
        "# 6) Plotting Learning Curves"
      ]
    },
    {
      "cell_type": "markdown",
      "metadata": {
        "id": "uy80aq_OpgEe"
      },
      "source": [
        "### 6.1) Learning Curves: Logistic Regression"
      ]
    },
    {
      "cell_type": "code",
      "execution_count": null,
      "metadata": {
        "id": "vRwJbjo2pgEe"
      },
      "outputs": [],
      "source": [
        "from sklearn.model_selection import learning_curve\n",
        "\n",
        "\n",
        "# Best parameters from grid search\n",
        "best_params = grid_log_reg.best_params_\n",
        "\n",
        "# Create logistic regression model with best parameters\n",
        "model = LogisticRegression(C=best_params['C'], solver=best_params['solver'], penalty=best_params['penalty'])\n",
        "\n",
        "# Define training sizes\n",
        "train_sizes = np.linspace(0.1, 1.0, 10)\n",
        "\n",
        "# Compute the learning curves\n",
        "train_sizes, train_scores, validation_scores = learning_curve(\n",
        "    model, X_train, y_train, train_sizes=train_sizes, cv=5, n_jobs=-1)\n",
        "\n",
        "# Calculate mean and standard deviation for training set scores\n",
        "train_mean = np.mean(train_scores, axis=1)\n",
        "train_std = np.std(train_scores, axis=1)\n",
        "\n",
        "# Calculate mean and standard deviation for validation set scores\n",
        "validation_mean = np.mean(validation_scores, axis=1)\n",
        "validation_std = np.std(validation_scores, axis=1)\n",
        "\n",
        "# Plot the learning curve\n",
        "plt.figure()\n",
        "plt.title('Learning Curve')\n",
        "plt.xlabel('Training Set Size')\n",
        "plt.ylabel('Score')\n",
        "plt.grid()\n",
        "\n",
        "plt.fill_between(train_sizes, train_mean - train_std, train_mean + train_std, alpha=0.1, color=\"r\")\n",
        "plt.fill_between(train_sizes, validation_mean - validation_std, validation_mean + validation_std, alpha=0.1, color=\"g\")\n",
        "plt.plot(train_sizes, train_mean, 'o-', color=\"r\", label=\"Training score\")\n",
        "plt.plot(train_sizes, validation_mean, 'o-', color=\"g\", label=\"Cross-validation score\")\n",
        "\n",
        "plt.legend(loc=\"best\")\n",
        "plt.show()\n",
        "\n"
      ]
    },
    {
      "cell_type": "markdown",
      "metadata": {
        "id": "K1KqlVgvpgEf"
      },
      "source": [
        "### 6.2) Learning Curves: Decision Tree"
      ]
    },
    {
      "cell_type": "code",
      "execution_count": null,
      "metadata": {
        "id": "kEtYXBy8EBIl"
      },
      "outputs": [],
      "source": [
        "from sklearn.model_selection import learning_curve\n",
        "\n",
        "# Best parameters from grid search for Decision Tree\n",
        "best_params_dt = grid_dt.best_params_\n",
        "\n",
        "# Create Decision Tree model with best parameters\n",
        "model_dt = DecisionTreeClassifier(max_depth=best_params_dt['max_depth'],\n",
        "                                  min_samples_split=best_params_dt['min_samples_split'],\n",
        "                                  min_samples_leaf=best_params_dt['min_samples_leaf'])\n",
        "\n",
        "# Define training sizes\n",
        "train_sizes_dt = np.linspace(0.1, 1.0, 10)\n",
        "\n",
        "# Compute the learning curves\n",
        "train_sizes_dt, train_scores_dt, validation_scores_dt = learning_curve(\n",
        "    model_dt, X_train, y_train, train_sizes=train_sizes_dt, cv=5, n_jobs=-1)\n",
        "\n",
        "# Calculate mean and standard deviation for training set scores\n",
        "train_mean_dt = np.mean(train_scores_dt, axis=1)\n",
        "train_std_dt = np.std(train_scores_dt, axis=1)\n",
        "\n",
        "# Calculate mean and standard deviation for validation set scores\n",
        "validation_mean_dt = np.mean(validation_scores_dt, axis=1)\n",
        "validation_std_dt = np.std(validation_scores_dt, axis=1)\n",
        "\n",
        "# Plot the learning curve\n",
        "plt.figure()\n",
        "plt.title('Learning Curve for Decision Tree')\n",
        "plt.xlabel('Training Set Size')\n",
        "plt.ylabel('Score')\n",
        "plt.grid()\n",
        "\n",
        "plt.fill_between(train_sizes_dt, train_mean_dt - train_std_dt, train_mean_dt + train_std_dt, alpha=0.1, color=\"r\")\n",
        "plt.fill_between(train_sizes_dt, validation_mean_dt - validation_std_dt, validation_mean_dt + validation_std_dt, alpha=0.1, color=\"g\")\n",
        "plt.plot(train_sizes_dt, train_mean_dt, 'o-', color=\"r\", label=\"Training score\")\n",
        "plt.plot(train_sizes_dt, validation_mean_dt, 'o-', color=\"g\", label=\"Cross-validation score\")\n",
        "\n",
        "plt.legend(loc=\"best\")\n",
        "plt.show()\n"
      ]
    },
    {
      "cell_type": "markdown",
      "metadata": {
        "id": "OHmWkLkXpgEf"
      },
      "source": [
        "### 6.3) Learning Curves: Random Forest"
      ]
    },
    {
      "cell_type": "code",
      "execution_count": null,
      "metadata": {
        "id": "wjq7vU9uEn3Z"
      },
      "outputs": [],
      "source": [
        "import numpy as np\n",
        "import matplotlib.pyplot as plt\n",
        "from sklearn.model_selection import learning_curve\n",
        "from sklearn.ensemble import RandomForestClassifier\n",
        "\n",
        "# Best parameters from grid search for Random Forest\n",
        "best_params_rf = grid_rf.best_params_\n",
        "\n",
        "# Create Random Forest model with best parameters\n",
        "model_rf = RandomForestClassifier(n_estimators=best_params_rf['n_estimators'],\n",
        "                                  max_features=best_params_rf['max_features'],\n",
        "                                  max_depth=best_params_rf['max_depth'])\n",
        "\n",
        "# Define training sizes\n",
        "train_sizes_rf = np.linspace(0.1, 1.0, 10)\n",
        "\n",
        "# Compute the learning curves\n",
        "train_sizes_rf, train_scores_rf, validation_scores_rf = learning_curve(\n",
        "    model_rf, X_train, y_train, train_sizes=train_sizes_rf, cv=5, n_jobs=-1)\n",
        "\n",
        "# Calculate mean and standard deviation for training set scores\n",
        "train_mean_rf = np.mean(train_scores_rf, axis=1)\n",
        "train_std_rf = np.std(train_scores_rf, axis=1)\n",
        "\n",
        "# Calculate mean and standard deviation for validation set scores\n",
        "validation_mean_rf = np.mean(validation_scores_rf, axis=1)\n",
        "validation_std_rf = np.std(validation_scores_rf, axis=1)\n",
        "\n",
        "# Plot the learning curve\n",
        "plt.figure()\n",
        "plt.title('Learning Curve for Random Forest')\n",
        "plt.xlabel('Training Set Size')\n",
        "plt.ylabel('Score')\n",
        "plt.grid()\n",
        "\n",
        "plt.fill_between(train_sizes_rf, train_mean_rf - train_std_rf, train_mean_rf + train_std_rf, alpha=0.1, color=\"r\")\n",
        "plt.fill_between(train_sizes_rf, validation_mean_rf - validation_std_rf, validation_mean_rf + validation_std_rf, alpha=0.1, color=\"g\")\n",
        "plt.plot(train_sizes_rf, train_mean_rf, 'o-', color=\"r\", label=\"Training score\")\n",
        "plt.plot(train_sizes_rf, validation_mean_rf, 'o-', color=\"g\", label=\"Cross-validation score\")\n",
        "\n",
        "plt.legend(loc=\"best\")\n",
        "plt.show()\n"
      ]
    },
    {
      "cell_type": "markdown",
      "metadata": {
        "id": "uV3sDA72pgEf"
      },
      "source": [
        "# 7) Models Evaluation"
      ]
    },
    {
      "cell_type": "markdown",
      "metadata": {
        "id": "ibCD2XmQTtAU"
      },
      "source": [
        "### 7.1) Classification metrics"
      ]
    },
    {
      "cell_type": "code",
      "execution_count": null,
      "metadata": {
        "id": "dGouvOoHpgEf"
      },
      "outputs": [],
      "source": [
        "from sklearn.metrics import classification_report, confusion_matrix, roc_curve, auc, RocCurveDisplay\n",
        "\n",
        "# Best estimators from GridSearchCV\n",
        "best_log_reg = grid_log_reg.best_params_\n",
        "best_decision_tree = grid_dt.best_params_\n",
        "best_random_forest = grid_rf.best_params_\n",
        "\n",
        "# Make predictions on the test set\n",
        "log_reg_pred = best_log_reg.predict(X_test)\n",
        "decision_tree_pred = best_decision_tree.predict(X_test)\n",
        "random_forest_pred = best_random_forest.predict(X_test)\n",
        "\n",
        "# Detailed metrics\n",
        "print(\"Logistic Regression Classification Report:\\n\", classification_report(y_test, log_reg_pred))\n",
        "print(\"Decision Tree Classification Report:\\n\", classification_report(y_test, decision_tree_pred))\n",
        "print(\"Random Forest Classification Report:\\n\", classification_report(y_test, random_forest_pred))"
      ]
    },
    {
      "cell_type": "markdown",
      "metadata": {
        "id": "MsoMu86NpgEg"
      },
      "source": [
        "### 7.2) Confusion Matrices"
      ]
    },
    {
      "cell_type": "code",
      "execution_count": null,
      "metadata": {
        "id": "S9hmEwB9pgEg"
      },
      "outputs": [],
      "source": [
        "def plot_confusion_matrix(y_true, y_preds, model_names):\n",
        "    fig, axes = plt.subplots(nrows=1, ncols=len(y_preds), figsize=(15, 5))\n",
        "\n",
        "    for ax, y_pred, model_name in zip(axes, y_preds, model_names):\n",
        "        cm = confusion_matrix(y_true, y_pred)\n",
        "        sns.heatmap(cm, annot=True, fmt='d', cmap='Blues', ax=ax)\n",
        "        ax.set_title(f'Confusion Matrix for {model_name}')\n",
        "        ax.set_ylabel('Actual label')\n",
        "        ax.set_xlabel('Predicted label')\n",
        "\n",
        "    plt.tight_layout()\n",
        "    plt.subplots_adjust(wspace=0.3)\n",
        "    plt.show()\n",
        "\n",
        "# Create a list of predictions and model names\n",
        "predictions = [log_reg_pred, decision_tree_pred, random_forest_pred]\n",
        "model_names = [\"Logistic Regression\", \"Decision Tree\", \"Random Forest\"]\n",
        "\n",
        "# Call the function with the test labels, predictions, and model names\n",
        "plot_confusion_matrix(y_test, predictions, model_names)"
      ]
    },
    {
      "cell_type": "markdown",
      "metadata": {
        "id": "UVElY3LhpgEg"
      },
      "source": [
        "### 7.3) ROC Curves"
      ]
    },
    {
      "cell_type": "code",
      "execution_count": null,
      "metadata": {
        "id": "QuJaKMLQpgEg"
      },
      "outputs": [],
      "source": [
        "def plot_roc_curves_and_get_auc(models, X_test, y_test, model_names):\n",
        "    fig, axes = plt.subplots(nrows=1, ncols=len(models), figsize=(18, 6))\n",
        "    auc_scores = {}\n",
        "\n",
        "    for ax, model, model_name in zip(axes, models, model_names):\n",
        "        y_prob = model.predict_proba(X_test)[:, 1]\n",
        "        fpr, tpr, thresholds = roc_curve(y_test, y_prob)\n",
        "        roc_auc = auc(fpr, tpr)\n",
        "        auc_scores[model_name] = roc_auc  # Store the AUC score\n",
        "\n",
        "        RocCurveDisplay(fpr=fpr, tpr=tpr, roc_auc=roc_auc, estimator_name=model_name).plot(ax=ax)\n",
        "        ax.set_title(f'ROC Curve for {model_name}')\n",
        "        ax.label_outer()\n",
        "\n",
        "    plt.tight_layout()\n",
        "    plt.subplots_adjust(wspace=0.3)  # Adjust the width of the space between subplots\n",
        "    plt.show()\n",
        "\n",
        "    return auc_scores\n",
        "\n",
        "# Create a list of models and model names\n",
        "models = [log_reg, dt_clf, rf_clf]\n",
        "model_names = [\"Logistic Regression\", \"Decision Tree\", \"Random Forest\"]\n",
        "\n",
        "# Call the function with the test data and models, and get AUC scores\n",
        "auc_scores = plot_roc_curves_and_get_auc(models, X_test, y_test, model_names)\n"
      ]
    },
    {
      "cell_type": "markdown",
      "metadata": {
        "id": "sPGQfN0ipgEg"
      },
      "source": [
        "### 7.4) Models Comparison"
      ]
    },
    {
      "cell_type": "code",
      "execution_count": null,
      "metadata": {
        "id": "yy75bDN3pgEg"
      },
      "outputs": [],
      "source": [
        "from sklearn.metrics import classification_report\n",
        "\n",
        "# Detailed metrics as dictionaries\n",
        "report_log_reg = classification_report(y_test, log_reg_pred, output_dict=True)\n",
        "report_decision_tree = classification_report(y_test, decision_tree_pred, output_dict=True)\n",
        "report_random_forest = classification_report(y_test, random_forest_pred, output_dict=True)\n",
        "\n",
        "# Extracting accuracy, precision, recall, and f1-score for each model\n",
        "accuracy_log_reg = report_log_reg['accuracy']\n",
        "precision_log_reg = report_log_reg['weighted avg']['precision']\n",
        "recall_log_reg = report_log_reg['weighted avg']['recall']\n",
        "f1_log_reg = report_log_reg['weighted avg']['f1-score']\n",
        "\n",
        "accuracy_dt = report_decision_tree['accuracy']\n",
        "precision_dt = report_decision_tree['weighted avg']['precision']\n",
        "recall_dt = report_decision_tree['weighted avg']['recall']\n",
        "f1_dt = report_decision_tree['weighted avg']['f1-score']\n",
        "\n",
        "accuracy_rf = report_random_forest['accuracy']\n",
        "precision_rf = report_random_forest['weighted avg']['precision']\n",
        "recall_rf = report_random_forest['weighted avg']['recall']\n",
        "f1_rf = report_random_forest['weighted avg']['f1-score']\n",
        "\n",
        "# For AUC, we have stored them previously during ROC curve plotting\n",
        "auc_log_reg = auc_scores[\"Logistic Regression\"]\n",
        "auc_dt = auc_scores[\"Decision Tree\"]\n",
        "auc_rf = auc_scores[\"Random Forest\"]\n",
        "\n",
        "\n",
        "# Metrics for each model\n",
        "metrics = ['Accuracy', 'Precision', 'Recall', 'F1 Score', 'AUC']\n",
        "log_reg_values = [accuracy_log_reg, precision_log_reg, recall_log_reg, f1_log_reg, auc_log_reg]\n",
        "decision_tree_values = [accuracy_dt, precision_dt, recall_dt, f1_dt, auc_dt]\n",
        "random_forest_values = [accuracy_rf, precision_rf, recall_rf, f1_rf, auc_rf]\n",
        "\n",
        "# Setting the positions and width for the bars\n",
        "pos = np.arange(len(metrics))\n",
        "bar_width = 0.2\n",
        "\n",
        "# Plotting the bars\n",
        "plt.figure(figsize=(12, 6))\n",
        "\n",
        "plt.bar(pos, log_reg_values, bar_width, label='Logistic Regression')\n",
        "plt.bar(pos + bar_width, decision_tree_values, bar_width, label='Decision Tree')\n",
        "plt.bar(pos + bar_width * 2, random_forest_values, bar_width, label='Random Forest')\n",
        "\n",
        "plt.xticks(pos + bar_width, metrics)\n",
        "plt.xlabel('Metrics')\n",
        "plt.ylabel('Scores')\n",
        "plt.title('Comparison of Classification Metrics')\n",
        "\n",
        "plt.legend(loc='upper left', bbox_to_anchor=(1, 1))\n",
        "plt.tight_layout()\n",
        "plt.show()\n"
      ]
    }
  ],
  "metadata": {
    "colab": {
      "provenance": []
    },
    "kernelspec": {
      "display_name": "base",
      "language": "python",
      "name": "python3"
    },
    "language_info": {
      "codemirror_mode": {
        "name": "ipython",
        "version": 3
      },
      "file_extension": ".py",
      "mimetype": "text/x-python",
      "name": "python",
      "nbconvert_exporter": "python",
      "pygments_lexer": "ipython3",
      "version": "3.9.12"
    }
  },
  "nbformat": 4,
  "nbformat_minor": 0
}
